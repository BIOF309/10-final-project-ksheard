{
 "cells": [
  {
   "cell_type": "markdown",
   "metadata": {},
   "source": [
    "# What are your chances of winning the lottery? "
   ]
  },
  {
   "cell_type": "code",
   "execution_count": 3,
   "metadata": {
    "collapsed": true
   },
   "outputs": [],
   "source": [
    "#generate a random sequence of numbers from 1-99\n",
    "#generate 100000 more sequences to check to simulate player input\n",
    "#check if the player inputs equal the entire initial sequence\n",
    "#check if any numbers in the sequences match one or more numbers in the initial sequence\n",
    "#calculate the chances of picking all five numbers\n",
    "#calculate the chances of picking 1 or more numbers in combination"
   ]
  },
  {
   "cell_type": "code",
   "execution_count": 4,
   "metadata": {
    "collapsed": true
   },
   "outputs": [],
   "source": [
    "import numpy as np\n",
    "import pandas as pd\n",
    "import matplotlib.pyplot as plt\n",
    "import random\n",
    "%matplotlib inline"
   ]
  },
  {
   "cell_type": "code",
   "execution_count": 5,
   "metadata": {
    "scrolled": true
   },
   "outputs": [
    {
     "name": "stdout",
     "output_type": "stream",
     "text": [
      "The winning numbers are [[66 92 98 17 83 57]].\n"
     ]
    }
   ],
   "source": [
    "#use a numpy array to choose the winning numbers\n",
    "np.random.seed(123)\n",
    "winning_numbers2 = np.random.randint(0,99,size=(1,6)) #returns a 1 x 5 array of 6 random integers\n",
    "print('The winning numbers are ' + str(winning_numbers2) + '.')"
   ]
  },
  {
   "cell_type": "code",
   "execution_count": null,
   "metadata": {},
   "outputs": [],
   "source": [
    "#use numpy to generate 100 more random sets to simulate players\n",
    "np.random.seed(123)\n",
    "bets = np.random.randint(0,99,size=(100,6)) #returns a 100 x 5 array of 6 random integers\n",
    "print('The player choices are ' + str(bets) + '.')"
   ]
  },
  {
   "cell_type": "code",
   "execution_count": 7,
   "metadata": {},
   "outputs": [
    {
     "data": {
      "text/plain": [
       "array([[False, False, False, False, False, False]], dtype=bool)"
      ]
     },
     "execution_count": 7,
     "metadata": {},
     "output_type": "execute_result"
    }
   ],
   "source": [
    "#checks whether any of the sets of bets are equal to the winning numbers\n",
    "np.equal([winning_numbers2], bets).all(axis=1)"
   ]
  },
  {
   "cell_type": "markdown",
   "metadata": {},
   "source": [
    "# Womp. You didn't win the lottery. "
   ]
  },
  {
   "cell_type": "markdown",
   "metadata": {},
   "source": [
    "What was your chance of winning?"
   ]
  },
  {
   "cell_type": "markdown",
   "metadata": {},
   "source": [
    "There are 100 numbers to be chosen 6 at a time. The total number of possible combinations is kCr, combinations of k objects taken r at a  time. In this case kCr is 100C6, or 100!/(6!94!), and your chance of winning the lottery is 1 in 100C6."
   ]
  },
  {
   "cell_type": "code",
   "execution_count": 8,
   "metadata": {},
   "outputs": [
    {
     "name": "stdout",
     "output_type": "stream",
     "text": [
      "There are 1192052400.0 possible combinations of 100 numbers taken 6 at a time.\n",
      "Your chance of winning is 8.38889297148e-10.\n"
     ]
    }
   ],
   "source": [
    "#calculate the number of possible combinations\n",
    "from scipy.special import comb\n",
    "k = 100\n",
    "r = 6\n",
    "combinations = comb(k, r)\n",
    "probability6 = 1/combinations\n",
    "print('There are '+ str(combinations) + ' possible combinations of 100 numbers taken 6 at a time.') \n",
    "print('Your chance of winning is '+ str(probability6)+ '.')"
   ]
  },
  {
   "cell_type": "markdown",
   "metadata": {},
   "source": [
    "You may still win a lesser amount of money if you choose 3, 4, or 5 of the winning numbers. The number of ways to pick 5 of the 6 winning numbers (or 1 of the 99 non-winning numbers) is (6C5)*(99C1), the number of ways to pick 4 of 6 winning numbers (or 2 of 99 non-winners) is (6C4)*(99C2), etc. "
   ]
  },
  {
   "cell_type": "code",
   "execution_count": 9,
   "metadata": {},
   "outputs": [
    {
     "name": "stdout",
     "output_type": "stream",
     "text": [
      "There are 594.0 possible ways to pick 5 of the 6 winning numbers.\n",
      "Your chance of winning is 4.98300242506e-07.\n"
     ]
    }
   ],
   "source": [
    "#calculate the probability of choosing 5 winning numbers\n",
    "kwin = 6\n",
    "rwin = 5\n",
    "klose = 99\n",
    "rlose = 1\n",
    "pick5 = (comb(kwin, rwin))*(comb(klose, rlose))\n",
    "print('There are '+ str(pick5) + ' possible ways to pick 5 of the 6 winning numbers.')\n",
    "\n",
    "probability5 = pick5/combinations\n",
    "print('Your chance of winning is '+ str(probability5)+ '.')"
   ]
  },
  {
   "cell_type": "code",
   "execution_count": 10,
   "metadata": {},
   "outputs": [
    {
     "name": "stdout",
     "output_type": "stream",
     "text": [
      "There are 72765.0 possible ways to pick 4 of the 6 winning numbers.\n",
      "Your chance of winning is 6.1041779707e-05.\n"
     ]
    }
   ],
   "source": [
    "#calculate the probability of choosing 4 winning numbers\n",
    "kwin = 6\n",
    "rwin = 4\n",
    "klose = 99\n",
    "rlose = 2\n",
    "pick4 = (comb(kwin, rwin))*(comb(klose, rlose))\n",
    "print('There are '+ str(pick4) + ' possible ways to pick 4 of the 6 winning numbers.')\n",
    "\n",
    "probability4 = pick4/combinations\n",
    "print('Your chance of winning is '+ str(probability4)+ '.')"
   ]
  },
  {
   "cell_type": "code",
   "execution_count": 11,
   "metadata": {},
   "outputs": [
    {
     "name": "stdout",
     "output_type": "stream",
     "text": [
      "There are 3136980.0 possible ways to pick 3 of the 6 winning numbers.\n",
      "Your chance of winning is 0.00263157894737.\n"
     ]
    }
   ],
   "source": [
    "#calculate the probability of choosing 3 winning numbers\n",
    "kwin = 6\n",
    "rwin = 3\n",
    "klose = 99\n",
    "rlose = 3\n",
    "pick3 = (comb(kwin, rwin))*(comb(klose, rlose))\n",
    "print('There are '+ str(pick3) + ' possible ways to pick 3 of the 6 winning numbers.')\n",
    "\n",
    "probability3 = pick3/combinations\n",
    "print('Your chance of winning is '+ str(probability3)+ '.')"
   ]
  },
  {
   "cell_type": "code",
   "execution_count": 12,
   "metadata": {},
   "outputs": [
    {
     "name": "stdout",
     "output_type": "stream",
     "text": [
      "Your chance of winning something is 0.00269311986621, and your overall odds of winning are the total probability times the number of times you play.\n",
      "Your chance of winning nothing is 0.997306880134.\n"
     ]
    }
   ],
   "source": [
    "#calculate the total probability of winning some amount of money\n",
    "totalprobability = probability6 + probability5 + probability4 + probability3\n",
    "completeloser = 1 - totalprobability\n",
    "print('Your chance of winning something is '+ str(totalprobability)+ ', and your overall odds of winning are the total probability times the number of times you play.')\n",
    "print('Your chance of winning nothing is '+ str(completeloser)+ '.')"
   ]
  },
  {
   "cell_type": "markdown",
   "metadata": {},
   "source": [
    "# Let's have a closer look."
   ]
  },
  {
   "cell_type": "markdown",
   "metadata": {},
   "source": [
    "The lottery numbers are chosen at random. If players choose numbers randomly, every number has a roughly equal chance of appearing throughout the array of bets. However, players tend not to choose numbers randomly. We choose numbers based on holidays, birthdays, other important dates or events, \"lucky numbers\", etc."
   ]
  },
  {
   "cell_type": "markdown",
   "metadata": {},
   "source": [
    "Is it possible to to more accurately predict your odds of winning based on whether a given number is likely to be chosen as a winner?"
   ]
  },
  {
   "cell_type": "code",
   "execution_count": 20,
   "metadata": {},
   "outputs": [
    {
     "data": {
      "image/png": "[encoded data removed]",
      "text/plain": [
       "<matplotlib.figure.Figure at 0x1149c5b00>"
      ]
     },
     "metadata": {},
     "output_type": "display_data"
    }
   ],
   "source": [
    "bets.tolist()\n",
    "plt.hist(bets)\n",
    "plt.xlabel(\"Bets\")\n",
    "plt.ylabel(\"Number of Instances\")\n",
    "plt.show()"
   ]
  },
  {
   "cell_type": "code",
   "execution_count": null,
   "metadata": {},
   "outputs": [],
   "source": [
    "#made a new list with 600 numbers between 0-99\n",
    "import random\n",
    "newbets = []\n",
    "for x in range(600):\n",
    "    x = random.randint(0,100) \n",
    "    newbets.append(x)\n",
    "print(newbets)"
   ]
  },
  {
   "cell_type": "code",
   "execution_count": 43,
   "metadata": {},
   "outputs": [
    {
     "data": {
      "image/png": "[encoded data removed]",
      "text/plain": [
       "<matplotlib.figure.Figure at 0x114e8fba8>"
      ]
     },
     "metadata": {},
     "output_type": "display_data"
    },
    {
     "name": "stdout",
     "output_type": "stream",
     "text": [
      "All numbers are created equal when chosen at random.\n"
     ]
    }
   ],
   "source": [
    "plt.hist(newbets)\n",
    "plt.xlabel(\"Bets\")\n",
    "plt.ylabel(\"Number of Instances\")\n",
    "plt.show()\n",
    "print(\"All numbers are created equal when chosen at random.\")"
   ]
  },
  {
   "cell_type": "code",
   "execution_count": 16,
   "metadata": {},
   "outputs": [
    {
     "data": {
      "text/html": [
       "<div>\n",
       "<style>\n",
       "    .dataframe thead tr:only-child th {\n",
       "        text-align: right;\n",
       "    }\n",
       "\n",
       "    .dataframe thead th {\n",
       "        text-align: left;\n",
       "    }\n",
       "\n",
       "    .dataframe tbody tr th {\n",
       "        vertical-align: top;\n",
       "    }\n",
       "</style>\n",
       "<table border=\"1\" class=\"dataframe\">\n",
       "  <thead>\n",
       "    <tr style=\"text-align: right;\">\n",
       "      <th></th>\n",
       "      <th>WB1</th>\n",
       "      <th>WB2</th>\n",
       "      <th>WB3</th>\n",
       "      <th>WB4</th>\n",
       "      <th>WB5</th>\n",
       "      <th>PB</th>\n",
       "      <th>PP</th>\n",
       "    </tr>\n",
       "    <tr>\n",
       "      <th>DrawDate</th>\n",
       "      <th></th>\n",
       "      <th></th>\n",
       "      <th></th>\n",
       "      <th></th>\n",
       "      <th></th>\n",
       "      <th></th>\n",
       "      <th></th>\n",
       "    </tr>\n",
       "  </thead>\n",
       "  <tbody>\n",
       "    <tr>\n",
       "      <th>3/15/17</th>\n",
       "      <td>30</td>\n",
       "      <td>16</td>\n",
       "      <td>41</td>\n",
       "      <td>48</td>\n",
       "      <td>53</td>\n",
       "      <td>16</td>\n",
       "      <td>3.0</td>\n",
       "    </tr>\n",
       "    <tr>\n",
       "      <th>3/11/17</th>\n",
       "      <td>57</td>\n",
       "      <td>41</td>\n",
       "      <td>50</td>\n",
       "      <td>26</td>\n",
       "      <td>1</td>\n",
       "      <td>11</td>\n",
       "      <td>2.0</td>\n",
       "    </tr>\n",
       "    <tr>\n",
       "      <th>3/8/17</th>\n",
       "      <td>42</td>\n",
       "      <td>23</td>\n",
       "      <td>59</td>\n",
       "      <td>46</td>\n",
       "      <td>33</td>\n",
       "      <td>4</td>\n",
       "      <td>2.0</td>\n",
       "    </tr>\n",
       "    <tr>\n",
       "      <th>3/4/17</th>\n",
       "      <td>2</td>\n",
       "      <td>22</td>\n",
       "      <td>63</td>\n",
       "      <td>19</td>\n",
       "      <td>18</td>\n",
       "      <td>19</td>\n",
       "      <td>3.0</td>\n",
       "    </tr>\n",
       "    <tr>\n",
       "      <th>3/1/17</th>\n",
       "      <td>16</td>\n",
       "      <td>10</td>\n",
       "      <td>52</td>\n",
       "      <td>40</td>\n",
       "      <td>55</td>\n",
       "      <td>17</td>\n",
       "      <td>10.0</td>\n",
       "    </tr>\n",
       "  </tbody>\n",
       "</table>\n",
       "</div>"
      ],
      "text/plain": [
       "          WB1  WB2  WB3  WB4  WB5  PB    PP\n",
       "DrawDate                                   \n",
       "3/15/17    30   16   41   48   53  16   3.0\n",
       "3/11/17    57   41   50   26    1  11   2.0\n",
       "3/8/17     42   23   59   46   33   4   2.0\n",
       "3/4/17      2   22   63   19   18  19   3.0\n",
       "3/1/17     16   10   52   40   55  17  10.0"
      ]
     },
     "execution_count": 16,
     "metadata": {},
     "output_type": "execute_result"
    }
   ],
   "source": [
    "#source: https://www.kaggle.com/scotth64/powerball-numbers\n",
    "df = pd.read_csv('pb_winning_numbers_03-18-2017.csv', index_col=0)\n",
    "df.head()"
   ]
  },
  {
   "cell_type": "markdown",
   "metadata": {},
   "source": [
    "\n",
    "\n",
    "\n",
    "\n"
   ]
  },
  {
   "cell_type": "code",
   "execution_count": null,
   "metadata": {},
   "outputs": [],
   "source": [
    "#count the number of instances of each Powerball (PB) number\n",
    "#source: adapted from https://www.kaggle.com/scotth64/pbnotebook\n",
    "powerballs = df.groupby( ['PB']) \n",
    "print(powerballs.get_group(11)) #prints every draw date where 11 was the PB number\n",
    "\n",
    "powerballs = pd.DataFrame(powerballs.size().reset_index(name = \"Number of Instances\")) \n",
    "powerballs.head(21)"
   ]
  },
  {
   "cell_type": "code",
   "execution_count": null,
   "metadata": {},
   "outputs": [],
   "source": [
    "#create a numpy array from the pandas data frame to plot the data\n",
    "data = np.array(powerballs)\n",
    "data"
   ]
  },
  {
   "cell_type": "code",
   "execution_count": 19,
   "metadata": {},
   "outputs": [
    {
     "data": {
      "text/plain": [
       "<matplotlib.text.Text at 0x114d0b710>"
      ]
     },
     "execution_count": 19,
     "metadata": {},
     "output_type": "execute_result"
    },
    {
     "data": {
      "image/png": "[encoded data removed]",
      "text/plain": [
       "<matplotlib.figure.Figure at 0x114cff208>"
      ]
     },
     "metadata": {},
     "output_type": "display_data"
    }
   ],
   "source": [
    "x, y = data.T\n",
    "plt.bar(x,y)\n",
    "plt.xlabel(\"Powerball Numbers\")\n",
    "plt.ylabel(\"Number of Instances\")"
   ]
  },
  {
   "cell_type": "code",
   "execution_count": 35,
   "metadata": {
    "collapsed": true
   },
   "outputs": [],
   "source": [
    "#begin building a model to predict how likely a number is to be chosen\n",
    "from sklearn import tree\n",
    "from sklearn.model_selection import train_test_split"
   ]
  },
  {
   "cell_type": "code",
   "execution_count": 56,
   "metadata": {},
   "outputs": [
    {
     "name": "stdout",
     "output_type": "stream",
     "text": [
      "          WB1  WB2  WB3  WB4  WB5  PB    PP\n",
      "DrawDate                                   \n",
      "7/22/06    40   47   14   55   54   6   4.0\n",
      "11/18/00   27   31   41    3   32  33   NaN\n",
      "5/13/98     2   36   13   30   18  26   NaN\n",
      "10/15/03   29    6   39   52    9   8   5.0\n",
      "10/20/12    4   28   31   44   21  10   NaN\n",
      "1/9/08      2   20   13   23   21  24   3.0\n",
      "10/16/99    5   40   18   22   12  21   NaN\n",
      "7/18/12     5    2   57   23   20   3   NaN\n",
      "1/4/12     50   35   21   47   46   2   4.0\n",
      "5/25/16    64   24   59   41   11  15   3.0\n",
      "5/22/99    36   18    6   43   15  11   NaN\n",
      "9/30/00    24   19   32   44   43  39   NaN\n",
      "7/24/10    59   30   46   38   20  27   2.0\n",
      "12/31/05   43    4   46   30   37  42   2.0\n",
      "9/17/11    43   22    6   20   32  11   2.0\n",
      "2/5/05     44   11   34   47   37  23   5.0\n",
      "1/14/12    41   30   10   36   38   1   5.0\n",
      "7/4/01     30   25    3   28   26  10   3.0\n",
      "11/22/00   44   18    5   40   47  34   NaN\n",
      "2/16/11    23   48   21    9   13  24   2.0\n",
      "3/15/14    34    5   51    2   58   9   4.0\n",
      "6/13/07    47   28   13   30   10  26   3.0\n",
      "7/7/01      9   34   22   46    3  17   1.0\n",
      "1/29/11    28   45   24   52   49   2   4.0\n",
      "1/6/16     47    2   63   62   11  17   3.0\n",
      "5/20/06    23    2    9   44   45  38   2.0\n",
      "5/29/10    24    3   28    1   41  10   4.0\n",
      "1/26/00    46   43   18   25   30  18   NaN\n",
      "3/9/16     32   34   14   23   68   3   3.0\n",
      "6/29/16    29   37   23   64   60   6   2.0\n",
      "...       ...  ...  ...  ...  ...  ..   ...\n",
      "6/9/12     56   45   57   22   18  27   NaN\n",
      "3/8/08     29   49   17   34   31  16   2.0\n",
      "11/4/98    17    2   36    8   30  22   NaN\n",
      "12/15/04   38    1   53   11    6  11   4.0\n",
      "1/10/98    17    9    7   44   20  25   NaN\n",
      "10/6/01    31   21    9    5    1  12   1.0\n",
      "9/21/05    35   28   34    3   50   8   3.0\n",
      "7/12/06    31   33   30   18   19  15   5.0\n",
      "8/25/04    32    1   50   30   37  19   5.0\n",
      "2/27/99    30   13   46   20   32  36   NaN\n",
      "1/2/10     23    3    7   42   27  37   3.0\n",
      "12/15/99   35   33   47   19   32  26   NaN\n",
      "7/25/12    14    3   46   38   35  16   NaN\n",
      "7/14/12     4   46   16   37   32  13   NaN\n",
      "5/6/00     39    4   27   29   41  16   NaN\n",
      "4/26/00    37   24   10    5   17  15   NaN\n",
      "6/28/00    27   24   30   13   45  18   NaN\n",
      "12/13/06   33   32   19   54   42  15   3.0\n",
      "12/22/10   33   11   44   47   46  12   2.0\n",
      "8/8/07     52   21    9   16   30   9   2.0\n",
      "11/21/07   13   11   20    3   40  20   2.0\n",
      "2/13/02    43   33   38   10    2  19   4.0\n",
      "8/19/15     6   43   48   50    8   7   2.0\n",
      "6/8/02     48   46   26   42   37  38   3.0\n",
      "10/4/03     8   13   29   44   48  36   3.0\n",
      "6/12/02    49   39   27   13   18  20   1.0\n",
      "3/13/13    38    9   32   28    5  29   NaN\n",
      "4/14/07    12   49   21   36   38  18  10.0\n",
      "4/5/00      6   11   18    8   39  40   NaN\n",
      "12/2/98    45   29   36    4   22  30   NaN\n",
      "\n",
      "[1617 rows x 7 columns]\n",
      "          WB1  WB2  WB3  WB4  WB5  PB   PP\n",
      "DrawDate                                  \n",
      "4/30/03    32   13   17   33    7  35  4.0\n",
      "6/22/16    14   42   43   52   40  17  3.0\n",
      "10/16/04   22   42    5   36   20  11  2.0\n",
      "5/16/12    21   43   28    3    7   2  NaN\n",
      "12/17/05   24   44   53   36   46  18  5.0\n",
      "10/12/11   43   10   12   23   47  18  3.0\n",
      "11/2/16    18   54   61   13   37   5  2.0\n",
      "2/18/15    29    1   49    9   32  22  2.0\n",
      "3/16/13    44   53    7   21    3  16  NaN\n",
      "2/19/03    16   11   44   17    6  26  5.0\n",
      "7/10/99    35   17    7   44   37  30  NaN\n",
      "3/8/14     14   24   32   41   10  30  2.0\n",
      "12/9/00    14   41   10    8   42  20  NaN\n",
      "11/6/02     9   19   17   12   11  23  5.0\n",
      "10/23/10   20    2   46    7   16  34  4.0\n",
      "9/5/07     48   30   21   20   11  18  2.0\n",
      "2/25/98    30   43    2   20   46  19  NaN\n",
      "12/24/16   38   52   42   51   28  21  2.0\n",
      "5/8/04     37    3   43    9   17  39  4.0\n",
      "11/22/08   19   32   26   45   17  14  4.0\n",
      "7/9/05     53   39    8    9   47   4  5.0\n",
      "3/1/14      3    8   25   47   30  13  4.0\n",
      "10/15/11   38   24    5   10   43   1  4.0\n",
      "8/23/14    52   28   36   32   35  31  3.0\n",
      "5/2/12      7   33   50   38    8  29  NaN\n",
      "5/10/08    30    7   18   45   41   6  2.0\n",
      "7/24/13    44   29   54   40    9   7  NaN\n",
      "6/20/07    32   31   55   37   23  35  3.0\n",
      "1/29/14    47   23   11   28   32  20  2.0\n",
      "11/24/99   43    2   15    4   37  40  NaN\n",
      "...       ...  ...  ...  ...  ...  ..  ...\n",
      "6/2/12     17   45   10   29    9  33  NaN\n",
      "10/17/01   46    7   40    5   29   5  1.0\n",
      "1/5/00     15    5   16   28   32  39  NaN\n",
      "12/9/98    40   12   43   48   33  16  NaN\n",
      "9/14/05    24   50   21   42   49   1  4.0\n",
      "12/2/15    14   18   19   64   32   9  2.0\n",
      "8/12/00    46   47   31    6   38  21  NaN\n",
      "12/26/09   53   41   36   32   37  30  3.0\n",
      "3/5/08     10   15   23   16   31   5  3.0\n",
      "1/3/15      4   43   46   55   18  25  3.0\n",
      "10/6/10    26   41   14   37   46  24  5.0\n",
      "6/18/16    53    2   23   63   41  11  2.0\n",
      "9/17/05    49   52    5    9   27   6  2.0\n",
      "8/25/99    45   11   13   21   34  30  NaN\n",
      "1/21/12    44   12   43   24   45   7  NaN\n",
      "4/11/09    46   49    7   35   28  20  4.0\n",
      "7/10/02    31   43   37   45   26  32  5.0\n",
      "4/7/99     26    5   37   39   31  42  NaN\n",
      "8/26/98     6   32   46   23   42   8  NaN\n",
      "8/28/99    38   39   25   14   18   7  NaN\n",
      "3/22/14    55   13   28   58   31  15  2.0\n",
      "10/2/99    48   35   15   12   25  30  NaN\n",
      "6/25/11    18   39   57   36   41  12  4.0\n",
      "4/4/01      5   43   16   12   13  11  3.0\n",
      "10/15/16   64   49   57   23   67  20  2.0\n",
      "2/12/03    49    7   12   19   47   6  4.0\n",
      "11/19/11   16    9   17   28   30  11  3.0\n",
      "3/17/01    36   16   18   15   20  18  5.0\n",
      "2/21/98    22   47   29   39    9  25  NaN\n",
      "10/22/16    1   55   33   28   56  22  2.0\n",
      "\n",
      "[405 rows x 7 columns]\n"
     ]
    }
   ],
   "source": [
    "#df = powerballs dataframe\n",
    "train, test = train_test_split(df, test_size=0.2)\n",
    "print(train)\n",
    "print(test)\n",
    "train.to_csv(\"project_train.csv\")\n",
    "test.to_csv(\"project_test.csv\")"
   ]
  },
  {
   "cell_type": "code",
   "execution_count": 51,
   "metadata": {},
   "outputs": [
    {
     "name": "stdout",
     "output_type": "stream",
     "text": [
      "[ 0.20147617  0.17897352  0.20726734  0.18162744  0.23065553]\n",
      "1.0\n"
     ]
    }
   ],
   "source": [
    "target = train[\"PB\"].values\n",
    "train_features = train[[\"WB1\", \"WB2\", \"WB3\", \"WB4\", \"WB5\"]].values\n",
    "my_tree_one = tree.DecisionTreeClassifier()\n",
    "my_tree_one = my_tree_one.fit(features_one, target)\n",
    "\n",
    "print(my_tree_one.feature_importances_)\n",
    "print(my_tree_one.score(features_one, target))"
   ]
  },
  {
   "cell_type": "code",
   "execution_count": 54,
   "metadata": {},
   "outputs": [
    {
     "data": {
      "text/plain": [
       "array([17, 11, 27, 37, 17, 25, 10, 18,  2,  4,  6,  7, 36,  6,  2, 36,  2,\n",
       "       14, 17,  8, 29, 15,  8, 33, 10, 19,  1, 13,  1, 31,  2,  4, 17,  1,\n",
       "       33, 19, 14,  5,  9, 22,  9, 26, 36,  5, 23, 21, 31,  8, 20, 29,  3,\n",
       "       33,  2, 12, 20,  8, 28, 24, 31, 37, 33, 30,  5, 21, 35, 15,  1, 29,\n",
       "        7, 16,  5, 13,  5,  9, 10, 19, 27, 20, 35,  2, 17, 29,  7,  1, 24,\n",
       "       42, 14, 27, 35,  7,  5, 20,  3, 41, 33, 16, 38, 41,  2,  8, 10,  7,\n",
       "        6, 10, 38,  7, 23,  4, 36,  6, 40,  1, 23, 18, 26,  8, 28, 13, 29,\n",
       "       30, 34, 28,  9,  5, 11,  3, 40,  3, 33, 10,  5,  1, 35,  6, 23, 30,\n",
       "        2,  4, 24, 14, 35, 13, 39,  2, 18, 30, 19, 30,  9, 24, 16, 13, 21,\n",
       "       18, 31, 41, 24, 27, 33,  7, 32, 18, 30, 20, 20, 36, 14, 20, 11, 40,\n",
       "       20,  6, 32, 24, 27, 29,  6, 17, 31, 34,  3, 41, 15, 25, 24, 12, 10,\n",
       "       34,  6,  8,  1,  9, 23, 17, 14, 40, 30,  2,  1, 42, 14, 23, 23, 35,\n",
       "       38, 13,  2,  2,  7, 17, 33, 14, 24, 10,  3, 16, 26, 22, 28,  8, 37,\n",
       "       33,  6, 18,  7, 14, 19,  3, 35, 24,  3, 36,  7, 15,  8, 33,  4, 23,\n",
       "       12, 15, 23, 11, 34,  2, 21, 28, 12, 32, 41, 20, 11, 18, 18, 25,  6,\n",
       "       19, 31, 15, 28, 31, 33, 36,  1,  2, 20, 24,  3, 29, 42, 18, 35, 11,\n",
       "       25, 15, 31, 34, 17, 25, 15, 21, 15, 16, 29, 27,  3, 15, 33,  3, 38,\n",
       "       29,  3, 11, 35, 14, 29, 14, 37, 30,  9,  9, 36, 18, 18, 27,  5, 19,\n",
       "        9,  2,  6,  9, 24, 20, 10, 15, 33,  9, 25, 23, 36, 34, 14, 21, 14,\n",
       "       12, 15,  8, 25, 35, 28, 16,  6, 37, 10, 33, 25, 24, 20, 29,  7, 17,\n",
       "       40, 25,  6, 24, 38,  2, 29,  7,  6,  3, 27,  2,  8, 25, 26, 22,  6,\n",
       "       23,  3, 21,  7,  4, 16, 18, 30, 34, 11,  7, 39, 25, 29, 32,  2, 27,\n",
       "       35, 37, 10, 31, 34, 30, 25, 37, 26, 11,  3, 31,  6, 32, 40, 41, 13,\n",
       "       23,  6, 18, 35, 28, 13,  6, 25, 24, 16, 19, 29, 25, 34])"
      ]
     },
     "execution_count": 54,
     "metadata": {},
     "output_type": "execute_result"
    }
   ],
   "source": [
    "test_features = test[[\"WB1\", \"WB2\", \"WB3\", \"WB4\", \"WB5\"]].values\n",
    "my_prediction = my_tree_one.predict(test_features)\n",
    "my_prediction"
   ]
  },
  {
   "cell_type": "code",
   "execution_count": 48,
   "metadata": {},
   "outputs": [
    {
     "data": {
      "image/png": "[encoded data removed]",
      "text/plain": [
       "<matplotlib.figure.Figure at 0x1162caa20>"
      ]
     },
     "metadata": {},
     "output_type": "display_data"
    }
   ],
   "source": [
    "plt.hist(my_prediction)\n",
    "plt.xlabel(\"Predictions\")\n",
    "plt.ylabel(\"Number of Instances\")\n",
    "plt.show()"
   ]
  },
  {
   "cell_type": "code",
   "execution_count": null,
   "metadata": {
    "collapsed": true
   },
   "outputs": [],
   "source": []
  }
 ],
 "metadata": {
  "kernelspec": {
   "display_name": "Python 3",
   "language": "python",
   "name": "python3"
  },
  "language_info": {
   "codemirror_mode": {
    "name": "ipython",
    "version": 3
   },
   "file_extension": ".py",
   "mimetype": "text/x-python",
   "name": "python",
   "nbconvert_exporter": "python",
   "pygments_lexer": "ipython3",
   "version": "3.6.1"
  }
 },
 "nbformat": 4,
 "nbformat_minor": 2
}
