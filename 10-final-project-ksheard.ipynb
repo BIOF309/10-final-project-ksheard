{
 "cells": [
  {
   "cell_type": "markdown",
   "metadata": {},
   "source": [
    "# What are your chances of winning the lottery? "
   ]
  },
  {
   "cell_type": "code",
   "execution_count": null,
   "metadata": {
    "collapsed": true
   },
   "outputs": [],
   "source": [
    "#generate a random sequence of numbers from 1-99\n",
    "#generate 100000 more sequences to check to simulate player input\n",
    "#check if the player inputs equal the entire initial sequence\n",
    "#check if any numbers in the sequences match one or more numbers in the initial sequence\n",
    "#calculate the chances of picking all five numbers\n",
    "#calculate the chances of picking 1 or more numbers in combination"
   ]
  },
  {
   "cell_type": "code",
   "execution_count": null,
   "metadata": {
    "collapsed": true
   },
   "outputs": [],
   "source": [
    "import numpy as np\n",
    "import pandas as pd\n",
    "import matplotlib.pyplot as plt\n",
    "import random\n",
    "%matplotlib inline"
   ]
  },
  {
   "cell_type": "code",
   "execution_count": null,
   "metadata": {
    "scrolled": true
   },
   "outputs": [],
   "source": [
    "#use a numpy array to choose the winning numbers\n",
    "np.random.seed(123)\n",
    "winning_numbers2 = np.random.randint(0,99,size=(1,6)) #returns a 1 x 5 array of 6 random integers\n",
    "print('The winning numbers are ' + str(winning_numbers2) + '.')"
   ]
  },
  {
   "cell_type": "code",
   "execution_count": null,
   "metadata": {},
   "outputs": [],
   "source": [
    "#use numpy to generate 100 more random sets to simulate players\n",
    "np.random.seed(123)\n",
    "bets = np.random.randint(0,99,size=(100,6)) #returns a 100 x 5 array of 6 random integers\n",
    "print('The player choices are ' + str(bets) + '.')"
   ]
  },
  {
   "cell_type": "code",
   "execution_count": null,
   "metadata": {},
   "outputs": [],
   "source": [
    "#checks whether any of the sets of bets are equal to the winning numbers\n",
    "np.equal([winning_numbers2], bets).all(axis=1)"
   ]
  },
  {
   "cell_type": "markdown",
   "metadata": {},
   "source": [
    "# Womp. You didn't win the lottery. "
   ]
  },
  {
   "cell_type": "markdown",
   "metadata": {},
   "source": [
    "What was your chance of winning?"
   ]
  },
  {
   "cell_type": "markdown",
   "metadata": {},
   "source": [
    "There are 100 numbers to be chosen 6 at a time. The total number of possible combinations is kCr, combinations of k objects taken r at a  time. In this case kCr is 100C6, or 100!/(6!94!), and your chance of winning the lottery is 1 in 100C6."
   ]
  },
  {
   "cell_type": "code",
   "execution_count": null,
   "metadata": {},
   "outputs": [],
   "source": [
    "#calculate the number of possible combinations\n",
    "from scipy.special import comb\n",
    "k = 100\n",
    "r = 6\n",
    "combinations = comb(k, r)\n",
    "probability6 = 1/combinations\n",
    "print('There are '+ str(combinations) + ' possible combinations of 100 numbers taken 6 at a time.') \n",
    "print('Your chance of winning is '+ str(probability6)+ '.')"
   ]
  },
  {
   "cell_type": "markdown",
   "metadata": {},
   "source": [
    "You may still win a lesser amount of money if you choose 3, 4, or 5 of the winning numbers. The number of ways to pick 5 of the 6 winning numbers (or 1 of the 99 non-winning numbers) is (6C5)*(99C1), the number of ways to pick 4 of 6 winning numbers (or 2 of 99 non-winners) is (6C4)*(99C2), etc. "
   ]
  },
  {
   "cell_type": "code",
   "execution_count": null,
   "metadata": {},
   "outputs": [],
   "source": [
    "#calculate the probability of choosing 5 winning numbers\n",
    "kwin = 6\n",
    "rwin = 5\n",
    "klose = 99\n",
    "rlose = 1\n",
    "pick5 = (comb(kwin, rwin))*(comb(klose, rlose))\n",
    "print('There are '+ str(pick5) + ' possible ways to pick 5 of the 6 winning numbers.')\n",
    "\n",
    "probability5 = pick5/combinations\n",
    "print('Your chance of winning is '+ str(probability5)+ '.')"
   ]
  },
  {
   "cell_type": "code",
   "execution_count": null,
   "metadata": {},
   "outputs": [],
   "source": [
    "#calculate the probability of choosing 4 winning numbers\n",
    "kwin = 6\n",
    "rwin = 4\n",
    "klose = 99\n",
    "rlose = 2\n",
    "pick4 = (comb(kwin, rwin))*(comb(klose, rlose))\n",
    "print('There are '+ str(pick4) + ' possible ways to pick 4 of the 6 winning numbers.')\n",
    "\n",
    "probability4 = pick4/combinations\n",
    "print('Your chance of winning is '+ str(probability4)+ '.')"
   ]
  },
  {
   "cell_type": "code",
   "execution_count": null,
   "metadata": {},
   "outputs": [],
   "source": [
    "#calculate the probability of choosing 3 winning numbers\n",
    "kwin = 6\n",
    "rwin = 3\n",
    "klose = 99\n",
    "rlose = 3\n",
    "pick3 = (comb(kwin, rwin))*(comb(klose, rlose))\n",
    "print('There are '+ str(pick3) + ' possible ways to pick 3 of the 6 winning numbers.')\n",
    "\n",
    "probability3 = pick3/combinations\n",
    "print('Your chance of winning is '+ str(probability3)+ '.')"
   ]
  },
  {
   "cell_type": "code",
   "execution_count": null,
   "metadata": {},
   "outputs": [],
   "source": [
    "#calculate the total probability of winning some amount of money\n",
    "totalprobability = probability6 + probability5 + probability4 + probability3\n",
    "completeloser = 1 - totalprobability\n",
    "print('Your chance of winning something is '+ str(totalprobability)+ ', and your overall odds of winning are the total probability times the number of times you play.')\n",
    "print('Your chance of winning nothing is '+ str(completeloser)+ '.')"
   ]
  },
  {
   "cell_type": "markdown",
   "metadata": {},
   "source": [
    "# Let's have a closer look."
   ]
  },
  {
   "cell_type": "markdown",
   "metadata": {},
   "source": [
    "The lottery numbers are chosen at random. If players choose numbers randomly, every number has a roughly equal chance of appearing throughout the array of bets. However, players tend not to choose numbers randomly. We choose numbers based on holidays, birthdays, other important dates or events, \"lucky numbers\", etc."
   ]
  },
  {
   "cell_type": "markdown",
   "metadata": {},
   "source": [
    "Is it possible to to more accurately predict your odds of winning based on whether a given number is likely to be chosen as a winner?"
   ]
  },
  {
   "cell_type": "code",
   "execution_count": null,
   "metadata": {},
   "outputs": [],
   "source": [
    "bets.tolist()\n",
    "plt.hist(bets)\n",
    "plt.xlabel(\"Bets\")\n",
    "plt.ylabel(\"Number of Instances\")\n",
    "plt.show()"
   ]
  },
  {
   "cell_type": "code",
   "execution_count": null,
   "metadata": {},
   "outputs": [],
   "source": [
    "#made a new list with 600 numbers between 0-99\n",
    "import random\n",
    "newbets = []\n",
    "for x in range(600):\n",
    "    x = random.randint(0,100) \n",
    "    newbets.append(x)\n",
    "print(newbets)"
   ]
  },
  {
   "cell_type": "code",
   "execution_count": null,
   "metadata": {},
   "outputs": [],
   "source": [
    "plt.hist(newbets)\n",
    "plt.xlabel(\"Bets\")\n",
    "plt.ylabel(\"Number of Instances\")\n",
    "plt.show()\n",
    "print(\"All numbers are created equal when chosen at random.\")"
   ]
  },
  {
   "cell_type": "code",
   "execution_count": null,
   "metadata": {},
   "outputs": [],
   "source": [
    "#source: https://www.kaggle.com/scotth64/powerball-numbers\n",
    "df = pd.read_csv('pb_winning_numbers_03-18-2017.csv', index_col=0)\n",
    "df.head()"
   ]
  },
  {
   "cell_type": "markdown",
   "metadata": {},
   "source": [
    "\n",
    "\n",
    "\n",
    "\n"
   ]
  },
  {
   "cell_type": "code",
   "execution_count": null,
   "metadata": {},
   "outputs": [],
   "source": [
    "#count the number of instances of each Powerball (PB) number\n",
    "#source: adapted from https://www.kaggle.com/scotth64/pbnotebook\n",
    "powerballs = df.groupby( ['PB']) \n",
    "print(powerballs.get_group(11)) #prints every draw date where 11 was the PB number\n",
    "\n",
    "powerballs = pd.DataFrame(powerballs.size().reset_index(name = \"Number of Instances\")) \n",
    "powerballs.head(21)"
   ]
  },
  {
   "cell_type": "code",
   "execution_count": null,
   "metadata": {},
   "outputs": [],
   "source": [
    "#create a numpy array from the pandas data frame to plot the data\n",
    "data = np.array(powerballs)\n",
    "data"
   ]
  },
  {
   "cell_type": "code",
   "execution_count": null,
   "metadata": {},
   "outputs": [],
   "source": [
    "x, y = data.T\n",
    "plt.bar(x,y)\n",
    "plt.xlabel(\"Powerball Numbers\")\n",
    "plt.ylabel(\"Number of Instances\")"
   ]
  },
  {
   "cell_type": "code",
   "execution_count": null,
   "metadata": {
    "collapsed": true
   },
   "outputs": [],
   "source": [
    "#begin building a model to predict how likely a number is to be chosen\n",
    "from sklearn import tree\n",
    "from sklearn.model_selection import train_test_split"
   ]
  },
  {
   "cell_type": "code",
   "execution_count": null,
   "metadata": {},
   "outputs": [],
   "source": [
    "#df = powerballs dataframe\n",
    "train, test = train_test_split(df, test_size=0.2)\n",
    "test1 = test.drop('PB', 1)\n",
    "#print(train)\n",
    "#print(test1)\n",
    "train.to_csv(\"project_train.csv\")\n",
    "test1.to_csv(\"project_test.csv\")"
   ]
  },
  {
   "cell_type": "code",
   "execution_count": null,
   "metadata": {},
   "outputs": [],
   "source": [
    "#create a decision tree from the Powerball values in train set\n",
    "target = train[\"PB\"].values\n",
    "train_features = train[[\"WB1\", \"WB2\", \"WB3\", \"WB4\", \"WB5\"]].values\n",
    "my_tree_one = tree.DecisionTreeClassifier()\n",
    "my_tree_one = my_tree_one.fit(features_one, target)\n",
    "\n",
    "print(my_tree_one.feature_importances_)\n",
    "print(my_tree_one.score(features_one, target))"
   ]
  },
  {
   "cell_type": "code",
   "execution_count": null,
   "metadata": {},
   "outputs": [],
   "source": [
    "#get powerball predictions for the test set\n",
    "test_features = test1[[\"WB1\", \"WB2\", \"WB3\", \"WB4\", \"WB5\"]].values\n",
    "my_prediction = my_tree_one.predict(test_features)\n",
    "my_prediction"
   ]
  },
  {
   "cell_type": "code",
   "execution_count": 63,
   "metadata": {},
   "outputs": [
    {
     "data": {
      "image/png": "[encoded data removed]",
      "text/plain": [
       "<matplotlib.figure.Figure at 0x1163e3c18>"
      ]
     },
     "metadata": {},
     "output_type": "display_data"
    }
   ],
   "source": [
    "plt.hist(my_prediction)\n",
    "plt.xlabel(\"Predictions\")\n",
    "plt.ylabel(\"Number of Instances\")\n",
    "plt.show()"
   ]
  }
 ],
 "metadata": {
  "kernelspec": {
   "display_name": "Python 3",
   "language": "python",
   "name": "python3"
  },
  "language_info": {
   "codemirror_mode": {
    "name": "ipython",
    "version": 3
   },
   "file_extension": ".py",
   "mimetype": "text/x-python",
   "name": "python",
   "nbconvert_exporter": "python",
   "pygments_lexer": "ipython3",
   "version": "3.6.1"
  }
 },
 "nbformat": 4,
 "nbformat_minor": 2
}
