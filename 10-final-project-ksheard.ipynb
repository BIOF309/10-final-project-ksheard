{
 "cells": [
  {
   "cell_type": "markdown",
   "metadata": {},
   "source": [
    "# What are your chances of winning the lottery? "
   ]
  },
  {
   "cell_type": "markdown",
   "metadata": {},
   "source": [
    "Adapted from and inspired by Dr. David Cruess' Probability Distributions lecture."
   ]
  },
  {
   "cell_type": "code",
   "execution_count": 1,
   "metadata": {
    "collapsed": true
   },
   "outputs": [],
   "source": [
    "#generate a random sequence of numbers from 1-99\n",
    "#generate 100000 more sequences to check to simulate player input\n",
    "#check if the player inputs equal the entire initial sequence\n",
    "#check if any numbers in the sequences match one or more numbers in the initial sequence\n",
    "#calculate the chances of picking all five numbers\n",
    "#calculate the chances of picking 1 or more numbers in combination\n",
    "#it is more likely that certain numbers will be selected by users than others. add more weight to \"lucky numbers\" and include this in the calculations\""
   ]
  },
  {
   "cell_type": "code",
   "execution_count": 2,
   "metadata": {
    "collapsed": true
   },
   "outputs": [],
   "source": [
    "import numpy as np\n",
    "import pandas as pd\n",
    "import matplotlib.pyplot as plt\n",
    "import random\n",
    "%matplotlib inline"
   ]
  },
  {
   "cell_type": "code",
   "execution_count": 3,
   "metadata": {
    "scrolled": true
   },
   "outputs": [
    {
     "name": "stdout",
     "output_type": "stream",
     "text": [
      "The winning numbers are [[66 92 98 17 83 57]].\n"
     ]
    }
   ],
   "source": [
    "#alternatively, can use a numpy array to choose the winning numbers\n",
    "np.random.seed(123)\n",
    "winning_numbers2 = np.random.randint(0,99,size=(1,6)) #returns a 1 x 5 array of 6 random integers\n",
    "print('The winning numbers are ' + str(winning_numbers2) + '.')"
   ]
  },
  {
   "cell_type": "code",
   "execution_count": 4,
   "metadata": {},
   "outputs": [
    {
     "name": "stdout",
     "output_type": "stream",
     "text": [
      "The player choices are [[66 92 98 17 83 57]\n",
      " [86 97 96 47 73 32]\n",
      " [46 96 25 83 78 36]\n",
      " [96 80 68 49 55 67]\n",
      " [ 2 84 39 66 84 47]\n",
      " [61 48  7 92 52 97]\n",
      " [85 94 27 34 97 76]\n",
      " [40  3 69 64 75 34]\n",
      " [58 10 22 77 18 15]\n",
      " [27 30 52 70 26 80]\n",
      " [ 6 14 75 54 71  1]\n",
      " [43 58 55 25 50 84]\n",
      " [56 49 12 18 81  1]\n",
      " [51 44 48 56 91 49]\n",
      " [86  3 67 11 21 89]\n",
      " [98  3 11  3 94  6]\n",
      " [ 9 87 14 83 70 12]\n",
      " [54 27 38 17 61 74]\n",
      " [65 47 16  5 86 46]\n",
      " [15 59 40 25 45 49]\n",
      " [ 0 35 29  1 83 68]\n",
      " [30  7 93 60 65 76]\n",
      " [67 44 51  7 88 70]\n",
      " [13 28 63 84 36 96]\n",
      " [40 88 63 58 77  8]\n",
      " [78  6 65 94 70 40]\n",
      " [74 76 76 25  7 13]\n",
      " [44  1 41 78 56 87]\n",
      " [63 97  3 17 88 87]\n",
      " [69 97 50  2 18 46]\n",
      " [45 57 35 18 91 46]\n",
      " [54 73 81 62 67 11]\n",
      " [26 92 75 10  3 45]\n",
      " [58 59 23 25 27 57]\n",
      " [ 3 78 85 59 48 56]\n",
      " [87 87  4 69 56 60]\n",
      " [ 9 66 33 69  9 79]\n",
      " [28 66 10  3 48  3]\n",
      " [23 91 55 34 37 49]\n",
      " [87 85 25 17 58 66]\n",
      " [45 10  8 96 25 67]\n",
      " [65  7 70 97 39 82]\n",
      " [92 38  5  9 40 68]\n",
      " [87 21 89 50 36 44]\n",
      " [92 83 81 61 14 78]\n",
      " [23 62 28 80 24 15]\n",
      " [49 80 84 90  4 21]\n",
      " [32 39  1 98 82 90]\n",
      " [35 58 38  1 52 17]\n",
      " [45 22 53 89 74  0]\n",
      " [35 83 94 71 39 87]\n",
      " [83 78 29 19 37  1]\n",
      " [ 5 81 35 77 25 97]\n",
      " [93 70 58 29 81 21]\n",
      " [16 30 55 80 30 12]\n",
      " [90 83 16 92 38 98]\n",
      " [ 7 37 14  0 96  2]\n",
      " [37 47 62 61 14 61]\n",
      " [81 37 94 19 58  6]\n",
      " [90 71 77 78 70 96]\n",
      " [51 97  3  0 77 94]\n",
      " [37 52 83  2 98 96]\n",
      " [14  2 91 90 32 82]\n",
      " [55 32 30  3 95 91]\n",
      " [79 91 78 21 30 59]\n",
      " [84 31 70 96  7 77]\n",
      " [61 88 95 27 65 16]\n",
      " [90  1  7 37 19 63]\n",
      " [20 89 30 83 69 14]\n",
      " [56  0 89 28 65 21]\n",
      " [60 28  8 40 20 54]\n",
      " [95 95 39 25 47 76]\n",
      " [ 2 95 32 96 41 76]\n",
      " [42 69  3 63 69 50]\n",
      " [66 90 83 17 19 29]\n",
      " [73 51 22 46  2 49]\n",
      " [ 8 18 35 39 26 91]\n",
      " [71 71 81 20 12 26]\n",
      " [61 39 52 79 39  8]\n",
      " [26 80  2 55 52  3]\n",
      " [39 51 55 64 77 71]\n",
      " [70 29 24 38 79 74]\n",
      " [24 32 62 53 50 84]\n",
      " [51 51 73 55 72  0]\n",
      " [97 30 20 23 18 60]\n",
      " [59 84 24 19 25  6]\n",
      " [66 55 71 93 10 71]\n",
      " [16 71 46 43 63 29]\n",
      " [42 15  3 84 49 33]\n",
      " [34 63 12 26 71 40]\n",
      " [41 28 15 52 45 68]\n",
      " [36 59 73 14 20 33]\n",
      " [85 85  8 25 76 17]\n",
      " [ 0 22 32 46 94 20]\n",
      " [86 79 60 26 62 51]\n",
      " [63 13 46  6 75 27]\n",
      " [ 2 21 84 62 28 19]\n",
      " [66 90 84 32 93 47]\n",
      " [40  8 47 86 53 22]\n",
      " [64 20 31 25 32 59]].\n"
     ]
    }
   ],
   "source": [
    "#again, use numpy to generate 1000000 more random sets to simulate players\n",
    "np.random.seed(123)\n",
    "bets = np.random.randint(0,99,size=(100,6)) #returns a 100 x 5 array of 6 random integers\n",
    "print('The player choices are ' + str(bets) + '.')"
   ]
  },
  {
   "cell_type": "code",
   "execution_count": 5,
   "metadata": {},
   "outputs": [
    {
     "data": {
      "text/plain": [
       "array([[False, False, False, False, False, False]], dtype=bool)"
      ]
     },
     "execution_count": 5,
     "metadata": {},
     "output_type": "execute_result"
    }
   ],
   "source": [
    "#checks whether any of the sets of bets are equal to the winning numbers\n",
    "np.equal([winning_numbers2], bets).all(axis=1)"
   ]
  },
  {
   "cell_type": "markdown",
   "metadata": {},
   "source": [
    "# Womp. You didn't win the lottery. "
   ]
  },
  {
   "cell_type": "markdown",
   "metadata": {},
   "source": [
    "So, what were your odds of winning?"
   ]
  },
  {
   "cell_type": "markdown",
   "metadata": {},
   "source": [
    "There are 100 numbers to be chosen 6 at a time. The total number of possible combinations is kCr, combinations of k objects taken r at a  time. In this case kCr is 100C6, or 100!/(6!94!), and your chance of winning the lottery is 1 in 100C6."
   ]
  },
  {
   "cell_type": "code",
   "execution_count": 6,
   "metadata": {},
   "outputs": [
    {
     "name": "stdout",
     "output_type": "stream",
     "text": [
      "There are 1192052400.0 possible combinations of 100 numbers taken 6 at a time.\n",
      "Your chance of winning is 8.38889297148e-10.\n"
     ]
    }
   ],
   "source": [
    "#calculate the number of possible combinations\n",
    "from scipy.special import comb\n",
    "k = 100\n",
    "r = 6\n",
    "combinations = comb(k, r)\n",
    "probability6 = 1/combinations\n",
    "print('There are '+ str(combinations) + ' possible combinations of 100 numbers taken 6 at a time.') \n",
    "print('Your chance of winning is '+ str(probability6)+ '.')"
   ]
  },
  {
   "cell_type": "markdown",
   "metadata": {},
   "source": [
    "You may still win a lesser amount of money if you choose 3, 4, or 5 of the winning numbers. The number of ways to pick 5 of the 6 winning numbers (or 1 of the 99 non-winning numbers) is (6C5)*(99C1), the number of ways to pick 4 of 6 winning numbers (or 2 of 99 non-winners) is (6C4)*(99C2), etc. "
   ]
  },
  {
   "cell_type": "code",
   "execution_count": 7,
   "metadata": {},
   "outputs": [
    {
     "name": "stdout",
     "output_type": "stream",
     "text": [
      "There are 594.0 possible ways to pick 5 of the 6 winning numbers.\n",
      "Your chance of winning is 4.98300242506e-07.\n"
     ]
    }
   ],
   "source": [
    "#calculate the probability of choosing 5 winning numbers\n",
    "kwin = 6\n",
    "rwin = 5\n",
    "klose = 99\n",
    "rlose = 1\n",
    "pick5 = (comb(kwin, rwin))*(comb(klose, rlose))\n",
    "print('There are '+ str(pick5) + ' possible ways to pick 5 of the 6 winning numbers.')\n",
    "\n",
    "probability5 = pick5/combinations\n",
    "print('Your chance of winning is '+ str(probability5)+ '.')"
   ]
  },
  {
   "cell_type": "code",
   "execution_count": 8,
   "metadata": {},
   "outputs": [
    {
     "name": "stdout",
     "output_type": "stream",
     "text": [
      "There are 72765.0 possible ways to pick 4 of the 6 winning numbers.\n",
      "Your chance of winning is 6.1041779707e-05.\n"
     ]
    }
   ],
   "source": [
    "#calculate the probability of choosing 4 winning numbers\n",
    "kwin = 6\n",
    "rwin = 4\n",
    "klose = 99\n",
    "rlose = 2\n",
    "pick4 = (comb(kwin, rwin))*(comb(klose, rlose))\n",
    "print('There are '+ str(pick4) + ' possible ways to pick 4 of the 6 winning numbers.')\n",
    "\n",
    "probability4 = pick4/combinations\n",
    "print('Your chance of winning is '+ str(probability4)+ '.')"
   ]
  },
  {
   "cell_type": "code",
   "execution_count": 9,
   "metadata": {},
   "outputs": [
    {
     "name": "stdout",
     "output_type": "stream",
     "text": [
      "There are 3136980.0 possible ways to pick 3 of the 6 winning numbers.\n",
      "Your chance of winning is 0.00263157894737.\n"
     ]
    }
   ],
   "source": [
    "#calculate the probability of choosing 3 winning numbers\n",
    "kwin = 6\n",
    "rwin = 3\n",
    "klose = 99\n",
    "rlose = 3\n",
    "pick3 = (comb(kwin, rwin))*(comb(klose, rlose))\n",
    "print('There are '+ str(pick3) + ' possible ways to pick 3 of the 6 winning numbers.')\n",
    "\n",
    "probability3 = pick3/combinations\n",
    "print('Your chance of winning is '+ str(probability3)+ '.')"
   ]
  },
  {
   "cell_type": "markdown",
   "metadata": {},
   "source": [
    "Now we can calculate the chance you will win some amount of money. "
   ]
  },
  {
   "cell_type": "code",
   "execution_count": 10,
   "metadata": {},
   "outputs": [
    {
     "name": "stdout",
     "output_type": "stream",
     "text": [
      "Your chance of winning something is 0.00269311986621, and your overall odds of winning is the total probability times the number of times you play.\n",
      "Your chance of winning nothing is 0.997306880134.\n"
     ]
    }
   ],
   "source": [
    "#calculate the total probability of winning some amount of money\n",
    "totalprobability = probability6 + probability5 + probability4 + probability3\n",
    "completeloser = 1 - totalprobability\n",
    "print('Your chance of winning something is '+ str(totalprobability)+ ', and your overall odds of winning is the total probability times the number of times you play.')\n",
    "print('Your chance of winning nothing is '+ str(completeloser)+ '.')"
   ]
  },
  {
   "cell_type": "markdown",
   "metadata": {},
   "source": [
    "# Let's have a closer look."
   ]
  },
  {
   "cell_type": "markdown",
   "metadata": {},
   "source": [
    "The lottery numbers are chosen at random. If players choose numbers randomly, every number has a roughly equal chance of appearing throughout the array of bets. However, players tend not to choose numbers randomly. We choose numbers based on holidays, birthdays, other important dates or events, \"lucky numbers\", etc. Therefore, not all numbers are created equal, and your chances of winning the lottery may not be so simple."
   ]
  },
  {
   "cell_type": "markdown",
   "metadata": {},
   "source": [
    "This quirk can be used to more accurately predicts your odds of winning based on whether a given number is chosen as a winner. Take a look at the stem-and-leaf plot of a set of 600 numbers."
   ]
  },
  {
   "cell_type": "code",
   "execution_count": 11,
   "metadata": {
    "collapsed": true
   },
   "outputs": [],
   "source": [
    "#couldn't figure out how to add the bets array into the stem-and-leaf plot\n",
    "#made a new 1D numpy array with 600 numbers between 0-100, still didn't work\n",
    "#np.random.seed(123)\n",
    "#newbets = np.random.randint(0,100,size=(1, 600)) #returns a 1 x 5 array of 6 random integers\n",
    "#np.sort(newbets)"
   ]
  },
  {
   "cell_type": "code",
   "execution_count": 12,
   "metadata": {},
   "outputs": [
    {
     "name": "stdout",
     "output_type": "stream",
     "text": [
      "[57, 86, 46, 54, 66, 81, 17, 76, 58, 80, 20, 69, 63, 91, 40, 58, 86, 91, 66, 15, 49, 23, 97, 1, 32, 31, 79, 27, 23, 11, 12, 77, 84, 38, 24, 53, 10, 63, 49, 75, 29, 19, 76, 77, 81, 69, 42, 64, 79, 75, 22, 25, 93, 82, 9, 54, 83, 85, 4, 0, 7, 20, 58, 17, 41, 57, 17, 72, 1, 70, 89, 47, 71, 36, 90, 0, 85, 6, 36, 21, 0, 70, 37, 26, 81, 68, 21, 80, 68, 54, 61, 20, 16, 61, 3, 50, 28, 7, 22, 81, 13, 66, 31, 65, 97, 11, 22, 33, 74, 60, 56, 33, 4, 54, 86, 44, 53, 27, 26, 30, 74, 30, 31, 78, 23, 55, 95, 24, 35, 93, 1, 65, 94, 29, 88, 63, 83, 68, 32, 24, 45, 87, 0, 55, 8, 24, 1, 52, 27, 97, 71, 16, 60, 26, 14, 43, 17, 28, 43, 72, 26, 42, 24, 10, 15, 29, 65, 93, 86, 11, 50, 80, 20, 46, 19, 61, 65, 28, 39, 34, 48, 16, 45, 93, 71, 30, 99, 55, 92, 85, 45, 92, 72, 35, 45, 87, 91, 78, 6, 73, 12, 29, 17, 62, 44, 86, 60, 98, 47, 58, 17, 85, 95, 46, 36, 12, 32, 75, 6, 79, 96, 8, 90, 86, 56, 97, 12, 36, 0, 37, 51, 81, 60, 39, 7, 50, 7, 38, 79, 61, 8, 75, 86, 15, 89, 24, 99, 38, 62, 66, 75, 53, 32, 21, 80, 74, 66, 14, 90, 16, 75, 90, 69, 63, 52, 14, 27, 31, 31, 20, 43, 65, 9, 9, 8, 48, 88, 21, 76, 13, 29, 19, 36, 28, 99, 6, 92, 52, 70, 97, 33, 41, 19, 48, 5, 8, 37, 8, 9, 41, 56, 56, 82, 20, 31, 75, 97, 23, 61, 25, 47, 70, 83, 13, 29, 25, 32, 1, 9, 52, 5, 18, 14, 23, 51, 95, 81, 12, 81, 73, 88, 38, 73, 59, 96, 83, 97, 93, 12, 15, 73, 98, 28, 93, 17, 12, 40, 21, 49, 13, 88, 38, 98, 78, 83, 31, 39, 72, 42, 41, 48, 94, 2, 95, 72, 97, 59, 51, 56, 22, 88, 24, 71, 0, 10, 38, 71, 40, 31, 4, 15, 10, 22, 70, 63, 84, 2, 86, 73, 0, 61, 52, 83, 36, 52, 7, 31, 9, 10, 8, 43, 60, 12, 28, 25, 92, 63, 17, 87, 87, 32, 4, 36, 65, 34, 86, 70, 62, 55, 48, 49, 42, 19, 20, 16, 22, 46, 25, 2, 29, 10, 47, 26, 65, 43, 59, 51, 51, 13, 77, 34, 85, 26, 36, 43, 27, 95, 17, 30, 94, 35, 1, 77, 68, 96, 8, 25, 8, 38, 18, 33, 78, 9, 95, 68, 61, 89, 26, 77, 92, 33, 30, 95, 72, 14, 52, 37, 0, 78, 10, 87, 28, 33, 64, 1, 22, 60, 17, 53, 37, 78, 70, 17, 73, 50, 30, 42, 6, 54, 82, 79, 20, 76, 64, 95, 35, 60, 58, 13, 74, 51, 10, 28, 59, 80, 43, 12, 62, 36, 16, 95, 80, 16, 68, 30, 61, 88, 49, 44, 43, 26, 91, 29, 58, 35, 24, 76, 40, 54, 18, 93, 59, 73, 60, 89, 43, 31, 27, 25, 19, 65, 32, 53, 12, 16, 53, 6, 5, 64, 82, 20, 76, 90, 34, 58, 24, 82, 65, 15, 50, 14, 68, 74, 62, 19, 24, 92, 92, 68, 0, 43, 10, 7, 43, 81, 51, 90, 18, 33, 15, 36, 33, 20, 26, 42, 46, 55, 98, 58, 15]\n"
     ]
    }
   ],
   "source": [
    "#couldn't figure out how to add the bets array into the stem-and-leaf plot\n",
    "#made a new list with 600 numbers between 0-100\n",
    "newbets = []\n",
    "for x in range(600):\n",
    "    x = random.randint(0,99) #choose numbers between 0 and 99 \n",
    "    newbets.append(x)\n",
    "print(newbets)"
   ]
  },
  {
   "cell_type": "code",
   "execution_count": 13,
   "metadata": {
    "collapsed": true
   },
   "outputs": [],
   "source": [
    "#import stemgraphic, this doesn't work in the notebook\n",
    "#from stemgraphic import *\n",
    "from IPython.display import Image\n",
    "path = %pwd"
   ]
  },
  {
   "cell_type": "code",
   "execution_count": null,
   "metadata": {},
   "outputs": [],
   "source": [
    "#build a stem-and-leaf plot of the new bets\n",
    "fig, ax = stem_graphic(newbets)\n",
    "stem_graphic(x, aggregation=False, outliers=False, legend_pos=None, delimiter_color = 'k', alpha=0, underline_color='orange')\n",
    "fig.savefig('newbets.png')"
   ]
  },
  {
   "cell_type": "code",
   "execution_count": null,
   "metadata": {},
   "outputs": [],
   "source": [
    "Image(filename = path +'/newbets.png')"
   ]
  },
  {
   "cell_type": "markdown",
   "metadata": {
    "collapsed": true
   },
   "source": [
    "All numbers are created equal when chosen at random."
   ]
  },
  {
   "cell_type": "markdown",
   "metadata": {},
   "source": [
    "# Let's predict your chances of winning some amount of money if you select 7, 11, or 21, three common lucky numbers."
   ]
  },
  {
   "cell_type": "code",
   "execution_count": 15,
   "metadata": {},
   "outputs": [
    {
     "data": {
      "text/html": [
       "<div>\n",
       "<style>\n",
       "    .dataframe thead tr:only-child th {\n",
       "        text-align: right;\n",
       "    }\n",
       "\n",
       "    .dataframe thead th {\n",
       "        text-align: left;\n",
       "    }\n",
       "\n",
       "    .dataframe tbody tr th {\n",
       "        vertical-align: top;\n",
       "    }\n",
       "</style>\n",
       "<table border=\"1\" class=\"dataframe\">\n",
       "  <thead>\n",
       "    <tr style=\"text-align: right;\">\n",
       "      <th></th>\n",
       "      <th>WB1</th>\n",
       "      <th>WB2</th>\n",
       "      <th>WB3</th>\n",
       "      <th>WB4</th>\n",
       "      <th>WB5</th>\n",
       "      <th>PB</th>\n",
       "      <th>PP</th>\n",
       "    </tr>\n",
       "    <tr>\n",
       "      <th>DrawDate</th>\n",
       "      <th></th>\n",
       "      <th></th>\n",
       "      <th></th>\n",
       "      <th></th>\n",
       "      <th></th>\n",
       "      <th></th>\n",
       "      <th></th>\n",
       "    </tr>\n",
       "  </thead>\n",
       "  <tbody>\n",
       "    <tr>\n",
       "      <th>3/15/17</th>\n",
       "      <td>30</td>\n",
       "      <td>16</td>\n",
       "      <td>41</td>\n",
       "      <td>48</td>\n",
       "      <td>53</td>\n",
       "      <td>16</td>\n",
       "      <td>3.0</td>\n",
       "    </tr>\n",
       "    <tr>\n",
       "      <th>3/11/17</th>\n",
       "      <td>57</td>\n",
       "      <td>41</td>\n",
       "      <td>50</td>\n",
       "      <td>26</td>\n",
       "      <td>1</td>\n",
       "      <td>11</td>\n",
       "      <td>2.0</td>\n",
       "    </tr>\n",
       "    <tr>\n",
       "      <th>3/8/17</th>\n",
       "      <td>42</td>\n",
       "      <td>23</td>\n",
       "      <td>59</td>\n",
       "      <td>46</td>\n",
       "      <td>33</td>\n",
       "      <td>4</td>\n",
       "      <td>2.0</td>\n",
       "    </tr>\n",
       "    <tr>\n",
       "      <th>3/4/17</th>\n",
       "      <td>2</td>\n",
       "      <td>22</td>\n",
       "      <td>63</td>\n",
       "      <td>19</td>\n",
       "      <td>18</td>\n",
       "      <td>19</td>\n",
       "      <td>3.0</td>\n",
       "    </tr>\n",
       "    <tr>\n",
       "      <th>3/1/17</th>\n",
       "      <td>16</td>\n",
       "      <td>10</td>\n",
       "      <td>52</td>\n",
       "      <td>40</td>\n",
       "      <td>55</td>\n",
       "      <td>17</td>\n",
       "      <td>10.0</td>\n",
       "    </tr>\n",
       "  </tbody>\n",
       "</table>\n",
       "</div>"
      ],
      "text/plain": [
       "          WB1  WB2  WB3  WB4  WB5  PB    PP\n",
       "DrawDate                                   \n",
       "3/15/17    30   16   41   48   53  16   3.0\n",
       "3/11/17    57   41   50   26    1  11   2.0\n",
       "3/8/17     42   23   59   46   33   4   2.0\n",
       "3/4/17      2   22   63   19   18  19   3.0\n",
       "3/1/17     16   10   52   40   55  17  10.0"
      ]
     },
     "execution_count": 15,
     "metadata": {},
     "output_type": "execute_result"
    }
   ],
   "source": [
    "#source: https://www.kaggle.com/scotth64/powerball-numbers\n",
    "#this is dataset with the winning New York powerball numbers since 1997\n",
    "df = pd.read_csv('pb_winning_numbers_03-18-2017.csv', index_col=0)\n",
    "df.head()"
   ]
  },
  {
   "cell_type": "code",
   "execution_count": 16,
   "metadata": {},
   "outputs": [
    {
     "name": "stdout",
     "output_type": "stream",
     "text": [
      "          WB1  WB2  WB3  WB4  WB5  PB   PP\n",
      "DrawDate                                  \n",
      "3/11/17    57   41   50   26    1  11  2.0\n",
      "7/23/16    39    5   35    7   23  11  2.0\n",
      "6/18/16    53    2   23   63   41  11  2.0\n",
      "5/18/16    25   67   39   23   54  11  3.0\n",
      "10/21/15   57   32   30   42   56  11  4.0\n",
      "7/22/15    31   12   57   44   43  11  2.0\n",
      "7/15/15    45   34   13   50   16  11  2.0\n",
      "6/3/15      6   40   37   13    8  11  2.0\n",
      "11/12/14   55   37   39   52   51  11  3.0\n",
      "7/5/14     34   58   24   36   57  11  4.0\n",
      "9/4/13      2   45   26    9   47  11  NaN\n",
      "7/6/13     52    2   36   35   13  11  NaN\n",
      "5/18/13    22   10   13   14   52  11  NaN\n",
      "12/22/12   18   44   35   39    1  11  NaN\n",
      "2/15/12    12   11   32   56   52  11  NaN\n",
      "2/11/12    37   52   10    1   57  11  NaN\n",
      "11/19/11   16    9   17   28   30  11  3.0\n",
      "9/17/11    43   22    6   20   32  11  2.0\n",
      "8/3/11     49   19   13   28   21  11  2.0\n",
      "5/28/11    43   12   20   51   55  11  4.0\n",
      "4/9/11     53    5   56   14   32  11  4.0\n",
      "10/16/10   28   16   12   11   15  11  2.0\n",
      "5/5/10     47   13   34   40   57  11  4.0\n",
      "9/23/09     7    8   29   20   25  11  5.0\n",
      "8/26/09    43   23    1   21   30  11  3.0\n",
      "8/8/09     45   37   50   33    4  11  4.0\n",
      "7/22/09     6   22    4   16   32  11  2.0\n",
      "2/25/09    32   49   42   56   17  11  4.0\n",
      "9/6/08     26   54   49   25   17  11  4.0\n",
      "8/27/08    13   49   31   48   36  11  2.0\n",
      "2/27/08    37   48   53   20   24  11  5.0\n",
      "1/16/08     9   18   47   38   19  11  5.0\n",
      "7/28/07    19   24   47   27   15  11  5.0\n",
      "4/25/07    14   12   13   17   53  11  4.0\n",
      "12/2/06    42   34   50   45   17  11  3.0\n",
      "6/10/06    36   54   24   26   16  11  3.0\n",
      "12/14/05   45   15    8   16   51  11  5.0\n",
      "8/27/05     8   39   31   44   22  11  5.0\n",
      "12/15/04   38    1   53   11    6  11  4.0\n",
      "10/30/04   20   27   48   40   30  11  2.0\n",
      "10/16/04   22   42    5   36   20  11  2.0\n",
      "4/17/04    41    4   42   34   29  11  5.0\n",
      "7/26/03     9   34   30   10   32  11  3.0\n",
      "2/26/03    34   27   23   31   10  11  2.0\n",
      "2/20/02    19    8    9   25   22  11  5.0\n",
      "4/4/01      5   43   16   12   13  11  3.0\n",
      "3/10/01    30   19   12   26   33  11  3.0\n",
      "9/20/00    17   45   23   33   21  11  NaN\n",
      "5/31/00    22   15   42   43   16  11  NaN\n",
      "5/10/00    31   47   20   18    8  11  NaN\n",
      "10/23/99   32   15   12   37   27  11  NaN\n",
      "6/5/99     49    8   37    2   16  11  NaN\n",
      "5/22/99    36   18    6   43   15  11  NaN\n",
      "2/13/99    18    4   35   27    9  11  NaN\n",
      "9/19/98    41   35   19   37    1  11  NaN\n",
      "6/13/98    21   23    6    8    3  11  NaN\n",
      "4/11/98    49   48    5   36   15  11  NaN\n"
     ]
    },
    {
     "data": {
      "text/html": [
       "<div>\n",
       "<style>\n",
       "    .dataframe thead tr:only-child th {\n",
       "        text-align: right;\n",
       "    }\n",
       "\n",
       "    .dataframe thead th {\n",
       "        text-align: left;\n",
       "    }\n",
       "\n",
       "    .dataframe tbody tr th {\n",
       "        vertical-align: top;\n",
       "    }\n",
       "</style>\n",
       "<table border=\"1\" class=\"dataframe\">\n",
       "  <thead>\n",
       "    <tr style=\"text-align: right;\">\n",
       "      <th></th>\n",
       "      <th>PB</th>\n",
       "      <th>Number of Instances</th>\n",
       "    </tr>\n",
       "  </thead>\n",
       "  <tbody>\n",
       "    <tr>\n",
       "      <th>0</th>\n",
       "      <td>1</td>\n",
       "      <td>54</td>\n",
       "    </tr>\n",
       "    <tr>\n",
       "      <th>1</th>\n",
       "      <td>2</td>\n",
       "      <td>65</td>\n",
       "    </tr>\n",
       "    <tr>\n",
       "      <th>2</th>\n",
       "      <td>3</td>\n",
       "      <td>47</td>\n",
       "    </tr>\n",
       "    <tr>\n",
       "      <th>3</th>\n",
       "      <td>4</td>\n",
       "      <td>42</td>\n",
       "    </tr>\n",
       "    <tr>\n",
       "      <th>4</th>\n",
       "      <td>5</td>\n",
       "      <td>54</td>\n",
       "    </tr>\n",
       "    <tr>\n",
       "      <th>5</th>\n",
       "      <td>6</td>\n",
       "      <td>63</td>\n",
       "    </tr>\n",
       "    <tr>\n",
       "      <th>6</th>\n",
       "      <td>7</td>\n",
       "      <td>47</td>\n",
       "    </tr>\n",
       "    <tr>\n",
       "      <th>7</th>\n",
       "      <td>8</td>\n",
       "      <td>55</td>\n",
       "    </tr>\n",
       "    <tr>\n",
       "      <th>8</th>\n",
       "      <td>9</td>\n",
       "      <td>53</td>\n",
       "    </tr>\n",
       "    <tr>\n",
       "      <th>9</th>\n",
       "      <td>10</td>\n",
       "      <td>50</td>\n",
       "    </tr>\n",
       "    <tr>\n",
       "      <th>10</th>\n",
       "      <td>11</td>\n",
       "      <td>57</td>\n",
       "    </tr>\n",
       "    <tr>\n",
       "      <th>11</th>\n",
       "      <td>12</td>\n",
       "      <td>48</td>\n",
       "    </tr>\n",
       "    <tr>\n",
       "      <th>12</th>\n",
       "      <td>13</td>\n",
       "      <td>50</td>\n",
       "    </tr>\n",
       "    <tr>\n",
       "      <th>13</th>\n",
       "      <td>14</td>\n",
       "      <td>58</td>\n",
       "    </tr>\n",
       "    <tr>\n",
       "      <th>14</th>\n",
       "      <td>15</td>\n",
       "      <td>57</td>\n",
       "    </tr>\n",
       "    <tr>\n",
       "      <th>15</th>\n",
       "      <td>16</td>\n",
       "      <td>47</td>\n",
       "    </tr>\n",
       "    <tr>\n",
       "      <th>16</th>\n",
       "      <td>17</td>\n",
       "      <td>60</td>\n",
       "    </tr>\n",
       "    <tr>\n",
       "      <th>17</th>\n",
       "      <td>18</td>\n",
       "      <td>57</td>\n",
       "    </tr>\n",
       "    <tr>\n",
       "      <th>18</th>\n",
       "      <td>19</td>\n",
       "      <td>52</td>\n",
       "    </tr>\n",
       "    <tr>\n",
       "      <th>19</th>\n",
       "      <td>20</td>\n",
       "      <td>70</td>\n",
       "    </tr>\n",
       "    <tr>\n",
       "      <th>20</th>\n",
       "      <td>21</td>\n",
       "      <td>50</td>\n",
       "    </tr>\n",
       "  </tbody>\n",
       "</table>\n",
       "</div>"
      ],
      "text/plain": [
       "    PB  Number of Instances\n",
       "0    1                   54\n",
       "1    2                   65\n",
       "2    3                   47\n",
       "3    4                   42\n",
       "4    5                   54\n",
       "5    6                   63\n",
       "6    7                   47\n",
       "7    8                   55\n",
       "8    9                   53\n",
       "9   10                   50\n",
       "10  11                   57\n",
       "11  12                   48\n",
       "12  13                   50\n",
       "13  14                   58\n",
       "14  15                   57\n",
       "15  16                   47\n",
       "16  17                   60\n",
       "17  18                   57\n",
       "18  19                   52\n",
       "19  20                   70\n",
       "20  21                   50"
      ]
     },
     "execution_count": 16,
     "metadata": {},
     "output_type": "execute_result"
    }
   ],
   "source": [
    "#count the number of instances of each Powerball (PB) number\n",
    "#source: adapted from https://www.kaggle.com/scotth64/pbnotebook\n",
    "powerballs = df.groupby( ['PB']) #creates a subset of the powerball numbers from the dataframe\n",
    "print(powerballs.get_group(11)) #prints every draw date where 11 was the PB number\n",
    "\n",
    "powerballs = pd.DataFrame(powerballs.size().reset_index(name = \"Number of Instances\")) #creates a new pandas df from the PB group\n",
    "powerballs.head(21)"
   ]
  },
  {
   "cell_type": "code",
   "execution_count": 17,
   "metadata": {},
   "outputs": [
    {
     "data": {
      "text/plain": [
       "array([[ 1, 54],\n",
       "       [ 2, 65],\n",
       "       [ 3, 47],\n",
       "       [ 4, 42],\n",
       "       [ 5, 54],\n",
       "       [ 6, 63],\n",
       "       [ 7, 47],\n",
       "       [ 8, 55],\n",
       "       [ 9, 53],\n",
       "       [10, 50],\n",
       "       [11, 57],\n",
       "       [12, 48],\n",
       "       [13, 50],\n",
       "       [14, 58],\n",
       "       [15, 57],\n",
       "       [16, 47],\n",
       "       [17, 60],\n",
       "       [18, 57],\n",
       "       [19, 52],\n",
       "       [20, 70],\n",
       "       [21, 50],\n",
       "       [22, 46],\n",
       "       [23, 59],\n",
       "       [24, 54],\n",
       "       [25, 57],\n",
       "       [26, 48],\n",
       "       [27, 42],\n",
       "       [28, 41],\n",
       "       [29, 56],\n",
       "       [30, 42],\n",
       "       [31, 51],\n",
       "       [32, 43],\n",
       "       [33, 53],\n",
       "       [34, 36],\n",
       "       [35, 49],\n",
       "       [36, 38],\n",
       "       [37, 51],\n",
       "       [38, 30],\n",
       "       [39, 33],\n",
       "       [40, 19],\n",
       "       [41, 20],\n",
       "       [42, 18]])"
      ]
     },
     "execution_count": 17,
     "metadata": {},
     "output_type": "execute_result"
    }
   ],
   "source": [
    "#create a numpy array from the pandas data frame to plot the data\n",
    "data = np.array(powerballs)\n",
    "data"
   ]
  },
  {
   "cell_type": "code",
   "execution_count": 18,
   "metadata": {},
   "outputs": [
    {
     "data": {
      "text/plain": [
       "<matplotlib.text.Text at 0x10eb4b0f0>"
      ]
     },
     "execution_count": 18,
     "metadata": {},
     "output_type": "execute_result"
    },
    {
     "data": {
      "image/png": "[encoded data removed]",
      "text/plain": [
       "<matplotlib.figure.Figure at 0x10ed59908>"
      ]
     },
     "metadata": {},
     "output_type": "display_data"
    }
   ],
   "source": [
    "x, y = data.T\n",
    "plt.bar(x,y)\n",
    "plt.xlabel(\"Powerball Numbers\")\n",
    "plt.ylabel(\"Number of Instances\")"
   ]
  },
  {
   "cell_type": "markdown",
   "metadata": {},
   "source": [
    "Again, 7, 11, and 21 are randomly chosen at the same frequency as every other number."
   ]
  },
  {
   "cell_type": "code",
   "execution_count": null,
   "metadata": {
    "collapsed": true
   },
   "outputs": [],
   "source": []
  }
 ],
 "metadata": {
  "kernelspec": {
   "display_name": "Python 3",
   "language": "python",
   "name": "python3"
  },
  "language_info": {
   "codemirror_mode": {
    "name": "ipython",
    "version": 3
   },
   "file_extension": ".py",
   "mimetype": "text/x-python",
   "name": "python",
   "nbconvert_exporter": "python",
   "pygments_lexer": "ipython3",
   "version": "3.6.1"
  }
 },
 "nbformat": 4,
 "nbformat_minor": 2
}
