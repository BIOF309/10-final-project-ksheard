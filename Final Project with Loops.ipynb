{
 "cells": [
  {
   "cell_type": "code",
   "execution_count": null,
   "metadata": {
    "collapsed": true
   },
   "outputs": [],
   "source": [
    "#generate a random sequence of numbers from 1-99\n",
    "#generate 100000 more sequences to check to simulate player input\n",
    "#check if the player inputs equal the entire initial sequence\n",
    "#check if any numbers in the sequences match one or more numbers in the initial sequence\n",
    "#calculate the chances of picking all five numbers\n",
    "#calculate the chances of picking 1 or more numbers in combination\n",
    "#it is more likely that certain numbers will be selected by users than others. add more weight to \"lucky numbers\" and include this in the calculations\""
   ]
  },
  {
   "cell_type": "code",
   "execution_count": 1,
   "metadata": {
    "collapsed": true
   },
   "outputs": [],
   "source": [
    "import numpy as np\n",
    "import pandas as pd\n",
    "import matplotlib as plt\n",
    "import random"
   ]
  },
  {
   "cell_type": "code",
   "execution_count": 2,
   "metadata": {},
   "outputs": [
    {
     "name": "stdout",
     "output_type": "stream",
     "text": [
      "[40, 97, 47, 54, 28, 58]\n"
     ]
    }
   ],
   "source": [
    "#randomly choose six winning numbers\n",
    "winning_numbers = []\n",
    "for x in range(6):\n",
    "    x = random.randint(0,100) #choose numbers between 0 and 99 \n",
    "    winning_numbers.append(x)\n",
    "print(winning_numbers)"
   ]
  },
  {
   "cell_type": "code",
   "execution_count": 9,
   "metadata": {},
   "outputs": [
    {
     "name": "stdout",
     "output_type": "stream",
     "text": [
      "[66 92 98 17 83 57]\n",
      "[86 97 96 47 73 32]\n",
      "[46 96 25 83 78 36]\n",
      "[96 80 68 49 55 67]\n",
      "[ 2 84 39 66 84 47]\n",
      "[61 48  7 99 92 52]\n",
      "[97 85 94 27 34 97]\n",
      "[76 40  3 69 64 75]\n",
      "[34 58 10 22 77 18]\n",
      "[15 27 30 52 70 26]\n",
      "[80  6 14 75 54 71]\n",
      "[ 1 43 58 55 25 50]\n",
      "[84 56 49 12 18 81]\n",
      "[ 1 51 44 48 56 91]\n",
      "[49 86  3 67 11 21]\n",
      "[89 98  3 11  3 94]\n",
      "[ 6  9 87 14 83 70]\n",
      "[12 54 27 38 17 61]\n",
      "[74 99 99 65 47 16]\n",
      "[ 5 86 46 15 59 40]\n",
      "[25 45 49  0 35 29]\n",
      "[ 1 83 68 30  7 93]\n",
      "[60 65 76 67 44 51]\n",
      "[ 7 88 70 13 28 63]\n",
      "[84 36 96 40 88 63]\n",
      "[58 77  8 78  6 65]\n",
      "[94 70 40 74 76 76]\n",
      "[25  7 13 44  1 41]\n",
      "[78 56 87 63 97  3]\n",
      "[17 88 87 69 97 50]\n",
      "[ 2 18 46 45 57 35]\n",
      "[18 91 46 54 73 81]\n",
      "[62 67 11 26 92 75]\n",
      "[10  3 45 58 59 23]\n",
      "[25 27 57  3 99 78]\n",
      "[85 59 48 56 87 87]\n",
      "[ 4 69 56 60  9 66]\n",
      "[33 69  9 79 28 66]\n",
      "[10  3 48  3 23 91]\n",
      "[55 34 37 49 87 85]\n",
      "[25 17 58 66 45 10]\n",
      "[ 8 96 25 99 67 65]\n",
      "[ 7 70 99 97 39 82]\n",
      "[92 38  5  9 40 68]\n",
      "[87 21 89 50 36 44]\n",
      "[92 99 83 81 61 14]\n",
      "[78 23 62 28 80 24]\n",
      "[15 49 80 84 90  4]\n",
      "[21 32 39  1 98 82]\n",
      "[90 35 58 38  1 52]\n",
      "[17 45 22 53 89 74]\n",
      "[ 0 35 83 94 71 39]\n",
      "[87 83 78 29 19 37]\n",
      "[ 1  5 81 35 77 25]\n",
      "[97 93 70 58 29 81]\n",
      "[21 16 30 55 80 30]\n",
      "[12 90 83 16 92 38]\n",
      "[98  7 37 14  0 96]\n",
      "[ 2 37 47 62 61 14]\n",
      "[61 81 37 94 19 58]\n",
      "[ 6 90 71 77 78 70]\n",
      "[96 51 97  3  0 77]\n",
      "[94 37 52 83  2 98]\n",
      "[96 14  2 91 90 32]\n",
      "[82 55 32 30  3 95]\n",
      "[91 79 91 78 21 30]\n",
      "[59 84 31 70 96  7]\n",
      "[77 61 88 95 27 65]\n",
      "[16 90  1  7 37 19]\n",
      "[63 20 89 30 83 69]\n",
      "[14 56  0 89 28 65]\n",
      "[21 60 28  8 40 20]\n",
      "[54 95 95 39 25 47]\n",
      "[76  2 95 32 96 41]\n",
      "[76 42 69  3 63 69]\n",
      "[50 66 90 83 17 19]\n",
      "[29 73 51 22 46  2]\n",
      "[49  8 18 35 39 26]\n",
      "[91 71 71 81 20 12]\n",
      "[26 61 39 52 79 39]\n",
      "[ 8 26 80  2 55 52]\n",
      "[ 3 39 51 55 64 77]\n",
      "[71 70 29 24 38 79]\n",
      "[74 24 32 62 53 50]\n",
      "[84 51 51 73 55 72]\n",
      "[ 0 97 30 20 23 18]\n",
      "[60 59 84 24 19 25]\n",
      "[ 6 66 55 71 93 10]\n",
      "[71 16 71 46 43 63]\n",
      "[29 42 15  3 84 49]\n",
      "[33 34 63 12 26 71]\n",
      "[40 41 28 15 52 45]\n",
      "[68 36 59 73 14 20]\n",
      "[33 85 85  8 25 76]\n",
      "[17  0 22 32 46 94]\n",
      "[20 86 79 60 26 62]\n",
      "[51 63 13 46  6 75]\n",
      "[27  2 21 84 62 28]\n",
      "[19 66 90 84 32 93]\n",
      "[47 40  8 47 86 53]\n"
     ]
    }
   ],
   "source": [
    "#now, generate 1000000 more random sets to simulate players\n",
    "np.random.seed(123)\n",
    "for x in range(100):\n",
    "    bets = (np.random.choice(100, 6)) #chooses 6 numbers between 0 and 99\n",
    "    print(bets)"
   ]
  },
  {
   "cell_type": "code",
   "execution_count": 8,
   "metadata": {},
   "outputs": [
    {
     "name": "stdout",
     "output_type": "stream",
     "text": [
      "Found:  False\n"
     ]
    }
   ],
   "source": [
    "#checks whether any of the bets are equal to the winning numbers\n",
    "needle = winning_numbers\n",
    "haystack = bets\n",
    "found = False\n",
    "for row in haystack:\n",
    "    if np.all(row == needle):\n",
    "        found = True\n",
    "        break\n",
    "print(\"Found: \", found)"
   ]
  },
  {
   "cell_type": "code",
   "execution_count": null,
   "metadata": {
    "collapsed": true
   },
   "outputs": [],
   "source": []
  }
 ],
 "metadata": {
  "kernelspec": {
   "display_name": "Python 3",
   "language": "python",
   "name": "python3"
  },
  "language_info": {
   "codemirror_mode": {
    "name": "ipython",
    "version": 3
   },
   "file_extension": ".py",
   "mimetype": "text/x-python",
   "name": "python",
   "nbconvert_exporter": "python",
   "pygments_lexer": "ipython3",
   "version": "3.6.1"
  }
 },
 "nbformat": 4,
 "nbformat_minor": 2
}
