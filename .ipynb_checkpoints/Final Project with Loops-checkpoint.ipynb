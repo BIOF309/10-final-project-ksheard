{
 "cells": [
  {
   "cell_type": "code",
   "execution_count": null,
   "metadata": {
    "collapsed": true
   },
   "outputs": [],
   "source": [
    "#generate a random sequence of numbers from 1-99\n",
    "#generate 100000 more sequences to check to simulate player input\n",
    "#check if the player inputs equal the entire initial sequence\n",
    "#check if any numbers in the sequences match one or more numbers in the initial sequence\n",
    "#calculate the chances of picking all five numbers\n",
    "#calculate the chances of picking 1 or more numbers in combination\n",
    "#it is more likely that certain numbers will be selected by users than others. add more weight to \"lucky numbers\" and include this in the calculations\""
   ]
  },
  {
   "cell_type": "code",
   "execution_count": 1,
   "metadata": {
    "collapsed": true
   },
   "outputs": [],
   "source": [
    "import numpy as np\n",
    "import pandas as pd\n",
    "import matplotlib as plt\n",
    "import random"
   ]
  },
  {
   "cell_type": "code",
   "execution_count": 2,
   "metadata": {},
   "outputs": [
    {
     "name": "stdout",
     "output_type": "stream",
     "text": [
      "[40, 97, 47, 54, 28, 58]\n"
     ]
    }
   ],
   "source": [
    "#randomly choose six winning numbers\n",
    "winning_numbers = []\n",
    "for x in range(6):\n",
    "    x = random.randint(0,100) #choose numbers between 0 and 99 \n",
    "    winning_numbers.append(x)\n",
    "print(winning_numbers)"
   ]
  },
  {
   "cell_type": "code",
   "execution_count": null,
   "metadata": {},
   "outputs": [],
   "source": [
    "#now, generate 1000000 more random sets to simulate players\n",
    "np.random.seed(123)\n",
    "for x in range(100):\n",
    "    bets = (np.random.choice(100, 6)) #chooses 6 numbers between 0 and 99\n",
    "    print(bets)"
   ]
  },
  {
   "cell_type": "code",
   "execution_count": 8,
   "metadata": {},
   "outputs": [
    {
     "name": "stdout",
     "output_type": "stream",
     "text": [
      "Found:  False\n"
     ]
    }
   ],
   "source": [
    "#checks whether any of the bets are equal to the winning numbers\n",
    "needle = winning_numbers\n",
    "haystack = bets\n",
    "found = False\n",
    "for row in haystack:\n",
    "    if np.all(row == needle):\n",
    "        found = True\n",
    "        break\n",
    "print(\"Found: \", found)"
   ]
  },
  {
   "cell_type": "code",
   "execution_count": null,
   "metadata": {
    "collapsed": true
   },
   "outputs": [],
   "source": []
  }
 ],
 "metadata": {
  "kernelspec": {
   "display_name": "Python 3",
   "language": "python",
   "name": "python3"
  },
  "language_info": {
   "codemirror_mode": {
    "name": "ipython",
    "version": 3
   },
   "file_extension": ".py",
   "mimetype": "text/x-python",
   "name": "python",
   "nbconvert_exporter": "python",
   "pygments_lexer": "ipython3",
   "version": "3.6.1"
  }
 },
 "nbformat": 4,
 "nbformat_minor": 2
}
