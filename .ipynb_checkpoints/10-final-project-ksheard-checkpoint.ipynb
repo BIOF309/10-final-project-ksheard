{
 "cells": [
  {
   "cell_type": "markdown",
   "metadata": {},
   "source": [
    "# What are your chances of winning the lottery? "
   ]
  },
  {
   "cell_type": "code",
   "execution_count": 8,
   "metadata": {
    "collapsed": true
   },
   "outputs": [],
   "source": [
    "#generate a random sequence of numbers from 1-99\n",
    "#generate 100000 more sequences to check to simulate player input\n",
    "#check if the player inputs equal the entire initial sequence\n",
    "#check if any numbers in the sequences match one or more numbers in the initial sequence\n",
    "#calculate the chances of picking all five numbers\n",
    "#calculate the chances of picking 1 or more numbers in combination"
   ]
  },
  {
   "cell_type": "code",
   "execution_count": 9,
   "metadata": {
    "collapsed": true
   },
   "outputs": [],
   "source": [
    "import numpy as np\n",
    "import pandas as pd\n",
    "import matplotlib.pyplot as plt\n",
    "import random\n",
    "%matplotlib inline"
   ]
  },
  {
   "cell_type": "code",
   "execution_count": 10,
   "metadata": {
    "scrolled": true
   },
   "outputs": [
    {
     "name": "stdout",
     "output_type": "stream",
     "text": [
      "The winning numbers are [[66 92 98 17 83 57]].\n"
     ]
    }
   ],
   "source": [
    "#use a numpy array to choose the winning numbers\n",
    "np.random.seed(123)\n",
    "winning_numbers2 = np.random.randint(0,99,size=(1,6)) #returns a 1 x 5 array of 6 random integers\n",
    "print('The winning numbers are ' + str(winning_numbers2) + '.')"
   ]
  },
  {
   "cell_type": "code",
   "execution_count": null,
   "metadata": {},
   "outputs": [],
   "source": [
    "#use numpy to generate 100 more random sets to simulate players\n",
    "np.random.seed(123)\n",
    "bets = np.random.randint(0,99,size=(100,6)) #returns a 100 x 5 array of 6 random integers\n",
    "print('The player choices are ' + str(bets) + '.')"
   ]
  },
  {
   "cell_type": "code",
   "execution_count": 12,
   "metadata": {},
   "outputs": [
    {
     "data": {
      "text/plain": [
       "array([[False, False, False, False, False, False]], dtype=bool)"
      ]
     },
     "execution_count": 12,
     "metadata": {},
     "output_type": "execute_result"
    }
   ],
   "source": [
    "#checks whether any of the sets of bets are equal to the winning numbers\n",
    "np.equal([winning_numbers2], bets).all(axis=1)"
   ]
  },
  {
   "cell_type": "markdown",
   "metadata": {},
   "source": [
    "# Womp. You didn't win the lottery. "
   ]
  },
  {
   "cell_type": "markdown",
   "metadata": {},
   "source": [
    "So, what were your odds of winning?"
   ]
  },
  {
   "cell_type": "markdown",
   "metadata": {},
   "source": [
    "There are 100 numbers to be chosen 6 at a time. The total number of possible combinations is kCr, combinations of k objects taken r at a  time. In this case kCr is 100C6, or 100!/(6!94!), and your chance of winning the lottery is 1 in 100C6."
   ]
  },
  {
   "cell_type": "code",
   "execution_count": 51,
   "metadata": {},
   "outputs": [
    {
     "name": "stdout",
     "output_type": "stream",
     "text": [
      "There are 1192052400.0 possible combinations of 100 numbers taken 6 at a time.\n",
      "Your chance of winning is 8.38889297148e-10.\n"
     ]
    }
   ],
   "source": [
    "#calculate the number of possible combinations\n",
    "from scipy.special import comb\n",
    "k = 100\n",
    "r = 6\n",
    "combinations = comb(k, r)\n",
    "probability6 = 1/combinations\n",
    "print('There are '+ str(combinations) + ' possible combinations of 100 numbers taken 6 at a time.') \n",
    "print('Your chance of winning is '+ str(probability6)+ '.')"
   ]
  },
  {
   "cell_type": "markdown",
   "metadata": {},
   "source": [
    "You may still win a lesser amount of money if you choose 3, 4, or 5 of the winning numbers. The number of ways to pick 5 of the 6 winning numbers (or 1 of the 99 non-winning numbers) is (6C5)*(99C1), the number of ways to pick 4 of 6 winning numbers (or 2 of 99 non-winners) is (6C4)*(99C2), etc. "
   ]
  },
  {
   "cell_type": "code",
   "execution_count": 52,
   "metadata": {},
   "outputs": [
    {
     "name": "stdout",
     "output_type": "stream",
     "text": [
      "There are 594.0 possible ways to pick 5 of the 6 winning numbers.\n",
      "Your chance of winning is 4.98300242506e-07.\n"
     ]
    }
   ],
   "source": [
    "#calculate the probability of choosing 5 winning numbers\n",
    "kwin = 6\n",
    "rwin = 5\n",
    "klose = 99\n",
    "rlose = 1\n",
    "pick5 = (comb(kwin, rwin))*(comb(klose, rlose))\n",
    "print('There are '+ str(pick5) + ' possible ways to pick 5 of the 6 winning numbers.')\n",
    "\n",
    "probability5 = pick5/combinations\n",
    "print('Your chance of winning is '+ str(probability5)+ '.')"
   ]
  },
  {
   "cell_type": "code",
   "execution_count": 53,
   "metadata": {},
   "outputs": [
    {
     "name": "stdout",
     "output_type": "stream",
     "text": [
      "There are 72765.0 possible ways to pick 4 of the 6 winning numbers.\n",
      "Your chance of winning is 6.1041779707e-05.\n"
     ]
    }
   ],
   "source": [
    "#calculate the probability of choosing 4 winning numbers\n",
    "kwin = 6\n",
    "rwin = 4\n",
    "klose = 99\n",
    "rlose = 2\n",
    "pick4 = (comb(kwin, rwin))*(comb(klose, rlose))\n",
    "print('There are '+ str(pick4) + ' possible ways to pick 4 of the 6 winning numbers.')\n",
    "\n",
    "probability4 = pick4/combinations\n",
    "print('Your chance of winning is '+ str(probability4)+ '.')"
   ]
  },
  {
   "cell_type": "code",
   "execution_count": 54,
   "metadata": {},
   "outputs": [
    {
     "name": "stdout",
     "output_type": "stream",
     "text": [
      "There are 3136980.0 possible ways to pick 3 of the 6 winning numbers.\n",
      "Your chance of winning is 0.00263157894737.\n"
     ]
    }
   ],
   "source": [
    "#calculate the probability of choosing 3 winning numbers\n",
    "kwin = 6\n",
    "rwin = 3\n",
    "klose = 99\n",
    "rlose = 3\n",
    "pick3 = (comb(kwin, rwin))*(comb(klose, rlose))\n",
    "print('There are '+ str(pick3) + ' possible ways to pick 3 of the 6 winning numbers.')\n",
    "\n",
    "probability3 = pick3/combinations\n",
    "print('Your chance of winning is '+ str(probability3)+ '.')"
   ]
  },
  {
   "cell_type": "code",
   "execution_count": 55,
   "metadata": {},
   "outputs": [
    {
     "name": "stdout",
     "output_type": "stream",
     "text": [
      "Your chance of winning something is 0.00269311986621, and your overall odds of winning are the total probability times the number of times you play.\n",
      "Your chance of winning nothing is 0.997306880134.\n"
     ]
    }
   ],
   "source": [
    "#calculate the total probability of winning some amount of money\n",
    "totalprobability = probability6 + probability5 + probability4 + probability3\n",
    "completeloser = 1 - totalprobability\n",
    "print('Your chance of winning something is '+ str(totalprobability)+ ', and your overall odds of winning are the total probability times the number of times you play.')\n",
    "print('Your chance of winning nothing is '+ str(completeloser)+ '.')"
   ]
  },
  {
   "cell_type": "markdown",
   "metadata": {},
   "source": [
    "# Let's have a closer look."
   ]
  },
  {
   "cell_type": "markdown",
   "metadata": {},
   "source": [
    "The lottery numbers are chosen at random. If players choose numbers randomly, every number has a roughly equal chance of appearing throughout the array of bets. However, players tend not to choose numbers randomly. We choose numbers based on holidays, birthdays, other important dates or events, \"lucky numbers\", etc."
   ]
  },
  {
   "cell_type": "markdown",
   "metadata": {},
   "source": [
    "Is it possible to to more accurately predict your odds of winning based on whether a given number is likely to be chosen as a winner?"
   ]
  },
  {
   "cell_type": "code",
   "execution_count": 56,
   "metadata": {},
   "outputs": [
    {
     "data": {
      "image/png": "[encoded data removed]",
      "text/plain": [
       "<matplotlib.figure.Figure at 0x117943ac8>"
      ]
     },
     "metadata": {},
     "output_type": "display_data"
    }
   ],
   "source": [
    "bets.tolist()\n",
    "plt.hist(bets)\n",
    "plt.xlabel(\"Bets\")\n",
    "plt.ylabel(\"Number of Instances\")\n",
    "plt.show()"
   ]
  },
  {
   "cell_type": "code",
   "execution_count": 28,
   "metadata": {},
   "outputs": [],
   "source": [
    "#made a new list with 600 numbers between 0-99\n",
    "import random\n",
    "newbets = []\n",
    "for x in range(600):\n",
    "    x = random.randint(0,100) \n",
    "    newbets.append(x)\n",
    "print(newbets)"
   ]
  },
  {
   "cell_type": "code",
   "execution_count": 33,
   "metadata": {},
   "outputs": [
    {
     "data": {
      "image/png": "[encoded data removed]",
      "text/plain": [
       "<matplotlib.figure.Figure at 0x116ec3358>"
      ]
     },
     "metadata": {},
     "output_type": "display_data"
    },
    {
     "name": "stdout",
     "output_type": "stream",
     "text": [
      "All numbers are created equal when chosen at random.\n"
     ]
    }
   ],
   "source": [
    "plt.hist(newbets, bins = 10)\n",
    "plt.xlabel(\"Bets\")\n",
    "plt.ylabel(\"Number of Instances\")\n",
    "plt.show()\n",
    "print(\"All numbers are created equal when chosen at random.\")"
   ]
  },
  {
   "cell_type": "code",
   "execution_count": 20,
   "metadata": {},
   "outputs": [
    {
     "data": {
      "text/html": [
       "<div>\n",
       "<style>\n",
       "    .dataframe thead tr:only-child th {\n",
       "        text-align: right;\n",
       "    }\n",
       "\n",
       "    .dataframe thead th {\n",
       "        text-align: left;\n",
       "    }\n",
       "\n",
       "    .dataframe tbody tr th {\n",
       "        vertical-align: top;\n",
       "    }\n",
       "</style>\n",
       "<table border=\"1\" class=\"dataframe\">\n",
       "  <thead>\n",
       "    <tr style=\"text-align: right;\">\n",
       "      <th></th>\n",
       "      <th>WB1</th>\n",
       "      <th>WB2</th>\n",
       "      <th>WB3</th>\n",
       "      <th>WB4</th>\n",
       "      <th>WB5</th>\n",
       "      <th>PB</th>\n",
       "      <th>PP</th>\n",
       "    </tr>\n",
       "    <tr>\n",
       "      <th>DrawDate</th>\n",
       "      <th></th>\n",
       "      <th></th>\n",
       "      <th></th>\n",
       "      <th></th>\n",
       "      <th></th>\n",
       "      <th></th>\n",
       "      <th></th>\n",
       "    </tr>\n",
       "  </thead>\n",
       "  <tbody>\n",
       "    <tr>\n",
       "      <th>3/15/17</th>\n",
       "      <td>30</td>\n",
       "      <td>16</td>\n",
       "      <td>41</td>\n",
       "      <td>48</td>\n",
       "      <td>53</td>\n",
       "      <td>16</td>\n",
       "      <td>3.0</td>\n",
       "    </tr>\n",
       "    <tr>\n",
       "      <th>3/11/17</th>\n",
       "      <td>57</td>\n",
       "      <td>41</td>\n",
       "      <td>50</td>\n",
       "      <td>26</td>\n",
       "      <td>1</td>\n",
       "      <td>11</td>\n",
       "      <td>2.0</td>\n",
       "    </tr>\n",
       "    <tr>\n",
       "      <th>3/8/17</th>\n",
       "      <td>42</td>\n",
       "      <td>23</td>\n",
       "      <td>59</td>\n",
       "      <td>46</td>\n",
       "      <td>33</td>\n",
       "      <td>4</td>\n",
       "      <td>2.0</td>\n",
       "    </tr>\n",
       "    <tr>\n",
       "      <th>3/4/17</th>\n",
       "      <td>2</td>\n",
       "      <td>22</td>\n",
       "      <td>63</td>\n",
       "      <td>19</td>\n",
       "      <td>18</td>\n",
       "      <td>19</td>\n",
       "      <td>3.0</td>\n",
       "    </tr>\n",
       "    <tr>\n",
       "      <th>3/1/17</th>\n",
       "      <td>16</td>\n",
       "      <td>10</td>\n",
       "      <td>52</td>\n",
       "      <td>40</td>\n",
       "      <td>55</td>\n",
       "      <td>17</td>\n",
       "      <td>10.0</td>\n",
       "    </tr>\n",
       "  </tbody>\n",
       "</table>\n",
       "</div>"
      ],
      "text/plain": [
       "          WB1  WB2  WB3  WB4  WB5  PB    PP\n",
       "DrawDate                                   \n",
       "3/15/17    30   16   41   48   53  16   3.0\n",
       "3/11/17    57   41   50   26    1  11   2.0\n",
       "3/8/17     42   23   59   46   33   4   2.0\n",
       "3/4/17      2   22   63   19   18  19   3.0\n",
       "3/1/17     16   10   52   40   55  17  10.0"
      ]
     },
     "execution_count": 20,
     "metadata": {},
     "output_type": "execute_result"
    }
   ],
   "source": [
    "#source: https://www.kaggle.com/scotth64/powerball-numbers\n",
    "df = pd.read_csv('pb_winning_numbers_03-18-2017.csv', index_col=0)\n",
    "df.head()"
   ]
  },
  {
   "cell_type": "markdown",
   "metadata": {},
   "source": [
    "\n",
    "\n",
    "\n",
    "\n"
   ]
  },
  {
   "cell_type": "code",
   "execution_count": null,
   "metadata": {},
   "outputs": [],
   "source": [
    "#count the number of instances of each Powerball (PB) number\n",
    "#source: adapted from https://www.kaggle.com/scotth64/pbnotebook\n",
    "powerballs = df.groupby( ['PB']) \n",
    "print(powerballs.get_group(11)) #prints every draw date where 11 was the PB number\n",
    "\n",
    "powerballs = pd.DataFrame(powerballs.size().reset_index(name = \"Number of Instances\")) \n",
    "powerballs.head(21)"
   ]
  },
  {
   "cell_type": "code",
   "execution_count": null,
   "metadata": {},
   "outputs": [],
   "source": [
    "#create a numpy array from the pandas data frame to plot the data\n",
    "data = np.array(powerballs)\n",
    "data"
   ]
  },
  {
   "cell_type": "code",
   "execution_count": 58,
   "metadata": {},
   "outputs": [
    {
     "data": {
      "text/plain": [
       "<matplotlib.text.Text at 0x1179fe828>"
      ]
     },
     "execution_count": 58,
     "metadata": {},
     "output_type": "execute_result"
    },
    {
     "data": {
      "image/png": "[encoded data removed]",
      "text/plain": [
       "<matplotlib.figure.Figure at 0x117dd6390>"
      ]
     },
     "metadata": {},
     "output_type": "display_data"
    }
   ],
   "source": [
    "x, y = data.T\n",
    "plt.bar(x,y)\n",
    "plt.xlabel(\"Powerball Numbers\")\n",
    "plt.ylabel(\"Number of Instances\")"
   ]
  }
 ],
 "metadata": {
  "kernelspec": {
   "display_name": "Python 3",
   "language": "python",
   "name": "python3"
  },
  "language_info": {
   "codemirror_mode": {
    "name": "ipython",
    "version": 3
   },
   "file_extension": ".py",
   "mimetype": "text/x-python",
   "name": "python",
   "nbconvert_exporter": "python",
   "pygments_lexer": "ipython3",
   "version": "3.6.1"
  }
 },
 "nbformat": 4,
 "nbformat_minor": 2
}
