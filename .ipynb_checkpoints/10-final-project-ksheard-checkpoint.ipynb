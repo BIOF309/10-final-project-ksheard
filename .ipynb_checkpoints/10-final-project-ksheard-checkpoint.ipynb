{
 "cells": [
  {
   "cell_type": "markdown",
   "metadata": {},
   "source": [
    "# What are your chances of winning the lottery? "
   ]
  },
  {
   "cell_type": "code",
   "execution_count": 1,
   "metadata": {
    "collapsed": true
   },
   "outputs": [],
   "source": [
    "#generate a random sequence of numbers from 1-99\n",
    "#generate 100000 more sequences to check to simulate player input\n",
    "#check if the player inputs equal the entire initial sequence\n",
    "#check if any numbers in the sequences match one or more numbers in the initial sequence\n",
    "#calculate the chances of picking all five numbers\n",
    "#calculate the chances of picking 1 or more numbers in combination"
   ]
  },
  {
   "cell_type": "code",
   "execution_count": 2,
   "metadata": {
    "collapsed": true
   },
   "outputs": [],
   "source": [
    "import numpy as np\n",
    "import pandas as pd\n",
    "import matplotlib.pyplot as plt\n",
    "import random\n",
    "%matplotlib inline"
   ]
  },
  {
   "cell_type": "code",
   "execution_count": 3,
   "metadata": {
    "scrolled": true
   },
   "outputs": [
    {
     "name": "stdout",
     "output_type": "stream",
     "text": [
      "The winning numbers are [[66 92 98 17 83 57]].\n"
     ]
    }
   ],
   "source": [
    "#use a numpy array to choose the winning numbers\n",
    "np.random.seed(123)\n",
    "winning_numbers2 = np.random.randint(0,99,size=(1,6)) #returns a 1 x 5 array of 6 random integers\n",
    "print('The winning numbers are ' + str(winning_numbers2) + '.')"
   ]
  },
  {
   "cell_type": "code",
   "execution_count": 4,
   "metadata": {},
   "outputs": [
    {
     "name": "stdout",
     "output_type": "stream",
     "text": [
      "The player choices are [[66 92 98 17 83 57]\n",
      " [86 97 96 47 73 32]\n",
      " [46 96 25 83 78 36]\n",
      " [96 80 68 49 55 67]\n",
      " [ 2 84 39 66 84 47]\n",
      " [61 48  7 92 52 97]\n",
      " [85 94 27 34 97 76]\n",
      " [40  3 69 64 75 34]\n",
      " [58 10 22 77 18 15]\n",
      " [27 30 52 70 26 80]\n",
      " [ 6 14 75 54 71  1]\n",
      " [43 58 55 25 50 84]\n",
      " [56 49 12 18 81  1]\n",
      " [51 44 48 56 91 49]\n",
      " [86  3 67 11 21 89]\n",
      " [98  3 11  3 94  6]\n",
      " [ 9 87 14 83 70 12]\n",
      " [54 27 38 17 61 74]\n",
      " [65 47 16  5 86 46]\n",
      " [15 59 40 25 45 49]\n",
      " [ 0 35 29  1 83 68]\n",
      " [30  7 93 60 65 76]\n",
      " [67 44 51  7 88 70]\n",
      " [13 28 63 84 36 96]\n",
      " [40 88 63 58 77  8]\n",
      " [78  6 65 94 70 40]\n",
      " [74 76 76 25  7 13]\n",
      " [44  1 41 78 56 87]\n",
      " [63 97  3 17 88 87]\n",
      " [69 97 50  2 18 46]\n",
      " [45 57 35 18 91 46]\n",
      " [54 73 81 62 67 11]\n",
      " [26 92 75 10  3 45]\n",
      " [58 59 23 25 27 57]\n",
      " [ 3 78 85 59 48 56]\n",
      " [87 87  4 69 56 60]\n",
      " [ 9 66 33 69  9 79]\n",
      " [28 66 10  3 48  3]\n",
      " [23 91 55 34 37 49]\n",
      " [87 85 25 17 58 66]\n",
      " [45 10  8 96 25 67]\n",
      " [65  7 70 97 39 82]\n",
      " [92 38  5  9 40 68]\n",
      " [87 21 89 50 36 44]\n",
      " [92 83 81 61 14 78]\n",
      " [23 62 28 80 24 15]\n",
      " [49 80 84 90  4 21]\n",
      " [32 39  1 98 82 90]\n",
      " [35 58 38  1 52 17]\n",
      " [45 22 53 89 74  0]\n",
      " [35 83 94 71 39 87]\n",
      " [83 78 29 19 37  1]\n",
      " [ 5 81 35 77 25 97]\n",
      " [93 70 58 29 81 21]\n",
      " [16 30 55 80 30 12]\n",
      " [90 83 16 92 38 98]\n",
      " [ 7 37 14  0 96  2]\n",
      " [37 47 62 61 14 61]\n",
      " [81 37 94 19 58  6]\n",
      " [90 71 77 78 70 96]\n",
      " [51 97  3  0 77 94]\n",
      " [37 52 83  2 98 96]\n",
      " [14  2 91 90 32 82]\n",
      " [55 32 30  3 95 91]\n",
      " [79 91 78 21 30 59]\n",
      " [84 31 70 96  7 77]\n",
      " [61 88 95 27 65 16]\n",
      " [90  1  7 37 19 63]\n",
      " [20 89 30 83 69 14]\n",
      " [56  0 89 28 65 21]\n",
      " [60 28  8 40 20 54]\n",
      " [95 95 39 25 47 76]\n",
      " [ 2 95 32 96 41 76]\n",
      " [42 69  3 63 69 50]\n",
      " [66 90 83 17 19 29]\n",
      " [73 51 22 46  2 49]\n",
      " [ 8 18 35 39 26 91]\n",
      " [71 71 81 20 12 26]\n",
      " [61 39 52 79 39  8]\n",
      " [26 80  2 55 52  3]\n",
      " [39 51 55 64 77 71]\n",
      " [70 29 24 38 79 74]\n",
      " [24 32 62 53 50 84]\n",
      " [51 51 73 55 72  0]\n",
      " [97 30 20 23 18 60]\n",
      " [59 84 24 19 25  6]\n",
      " [66 55 71 93 10 71]\n",
      " [16 71 46 43 63 29]\n",
      " [42 15  3 84 49 33]\n",
      " [34 63 12 26 71 40]\n",
      " [41 28 15 52 45 68]\n",
      " [36 59 73 14 20 33]\n",
      " [85 85  8 25 76 17]\n",
      " [ 0 22 32 46 94 20]\n",
      " [86 79 60 26 62 51]\n",
      " [63 13 46  6 75 27]\n",
      " [ 2 21 84 62 28 19]\n",
      " [66 90 84 32 93 47]\n",
      " [40  8 47 86 53 22]\n",
      " [64 20 31 25 32 59]].\n"
     ]
    }
   ],
   "source": [
    "#use numpy to generate 100 more random sets to simulate players\n",
    "np.random.seed(123)\n",
    "bets = np.random.randint(0,99,size=(100,6)) #returns a 100 x 5 array of 6 random integers\n",
    "print('The player choices are ' + str(bets) + '.')"
   ]
  },
  {
   "cell_type": "code",
   "execution_count": 5,
   "metadata": {},
   "outputs": [
    {
     "data": {
      "text/plain": [
       "array([[False, False, False, False, False, False]], dtype=bool)"
      ]
     },
     "execution_count": 5,
     "metadata": {},
     "output_type": "execute_result"
    }
   ],
   "source": [
    "#checks whether any of the sets of bets are equal to the winning numbers\n",
    "np.equal([winning_numbers2], bets).all(axis=1)"
   ]
  },
  {
   "cell_type": "markdown",
   "metadata": {},
   "source": [
    "# Womp. You didn't win the lottery. "
   ]
  },
  {
   "cell_type": "markdown",
   "metadata": {},
   "source": [
    "What was your chance of winning?"
   ]
  },
  {
   "cell_type": "markdown",
   "metadata": {},
   "source": [
    "There are 100 numbers to be chosen 6 at a time. The total number of possible combinations is kCr, combinations of k objects taken r at a  time. In this case kCr is 100C6, or 100!/(6!94!), and your chance of winning the lottery is 1 in 100C6."
   ]
  },
  {
   "cell_type": "code",
   "execution_count": 6,
   "metadata": {},
   "outputs": [
    {
     "name": "stdout",
     "output_type": "stream",
     "text": [
      "There are 1192052400.0 possible combinations of 100 numbers taken 6 at a time.\n",
      "Your chance of winning is 8.38889297148e-10.\n"
     ]
    }
   ],
   "source": [
    "#calculate the number of possible combinations\n",
    "from scipy.special import comb\n",
    "k = 100\n",
    "r = 6\n",
    "combinations = comb(k, r)\n",
    "probability6 = 1/combinations\n",
    "print('There are '+ str(combinations) + ' possible combinations of 100 numbers taken 6 at a time.') \n",
    "print('Your chance of winning is '+ str(probability6)+ '.')"
   ]
  },
  {
   "cell_type": "markdown",
   "metadata": {},
   "source": [
    "You may still win a lesser amount of money if you choose 3, 4, or 5 of the winning numbers. The number of ways to pick 5 of the 6 winning numbers (or 1 of the 99 non-winning numbers) is (6C5)*(99C1), the number of ways to pick 4 of 6 winning numbers (or 2 of 99 non-winners) is (6C4)*(99C2), etc. "
   ]
  },
  {
   "cell_type": "code",
   "execution_count": 7,
   "metadata": {},
   "outputs": [
    {
     "name": "stdout",
     "output_type": "stream",
     "text": [
      "There are 594.0 possible ways to pick 5 of the 6 winning numbers.\n",
      "Your chance of winning is 4.98300242506e-07.\n"
     ]
    }
   ],
   "source": [
    "#calculate the probability of choosing 5 winning numbers\n",
    "kwin = 6\n",
    "rwin = 5\n",
    "klose = 99\n",
    "rlose = 1\n",
    "pick5 = (comb(kwin, rwin))*(comb(klose, rlose))\n",
    "print('There are '+ str(pick5) + ' possible ways to pick 5 of the 6 winning numbers.')\n",
    "\n",
    "probability5 = pick5/combinations\n",
    "print('Your chance of winning is '+ str(probability5)+ '.')"
   ]
  },
  {
   "cell_type": "code",
   "execution_count": 8,
   "metadata": {},
   "outputs": [
    {
     "name": "stdout",
     "output_type": "stream",
     "text": [
      "There are 72765.0 possible ways to pick 4 of the 6 winning numbers.\n",
      "Your chance of winning is 6.1041779707e-05.\n"
     ]
    }
   ],
   "source": [
    "#calculate the probability of choosing 4 winning numbers\n",
    "kwin = 6\n",
    "rwin = 4\n",
    "klose = 99\n",
    "rlose = 2\n",
    "pick4 = (comb(kwin, rwin))*(comb(klose, rlose))\n",
    "print('There are '+ str(pick4) + ' possible ways to pick 4 of the 6 winning numbers.')\n",
    "\n",
    "probability4 = pick4/combinations\n",
    "print('Your chance of winning is '+ str(probability4)+ '.')"
   ]
  },
  {
   "cell_type": "code",
   "execution_count": 9,
   "metadata": {},
   "outputs": [
    {
     "name": "stdout",
     "output_type": "stream",
     "text": [
      "There are 3136980.0 possible ways to pick 3 of the 6 winning numbers.\n",
      "Your chance of winning is 0.00263157894737.\n"
     ]
    }
   ],
   "source": [
    "#calculate the probability of choosing 3 winning numbers\n",
    "kwin = 6\n",
    "rwin = 3\n",
    "klose = 99\n",
    "rlose = 3\n",
    "pick3 = (comb(kwin, rwin))*(comb(klose, rlose))\n",
    "print('There are '+ str(pick3) + ' possible ways to pick 3 of the 6 winning numbers.')\n",
    "\n",
    "probability3 = pick3/combinations\n",
    "print('Your chance of winning is '+ str(probability3)+ '.')"
   ]
  },
  {
   "cell_type": "code",
   "execution_count": 10,
   "metadata": {},
   "outputs": [
    {
     "name": "stdout",
     "output_type": "stream",
     "text": [
      "Your chance of winning something is 0.00269311986621, and your overall odds of winning are the total probability times the number of times you play.\n",
      "Your chance of winning nothing is 0.997306880134.\n"
     ]
    }
   ],
   "source": [
    "#calculate the total probability of winning some amount of money\n",
    "totalprobability = probability6 + probability5 + probability4 + probability3\n",
    "completeloser = 1 - totalprobability\n",
    "print('Your chance of winning something is '+ str(totalprobability)+ ', and your overall odds of winning are the total probability times the number of times you play.')\n",
    "print('Your chance of winning nothing is '+ str(completeloser)+ '.')"
   ]
  },
  {
   "cell_type": "markdown",
   "metadata": {},
   "source": [
    "# Let's have a closer look."
   ]
  },
  {
   "cell_type": "markdown",
   "metadata": {},
   "source": [
    "The lottery numbers are chosen at random. If players choose numbers randomly, every number has a roughly equal chance of appearing throughout the array of bets. However, players tend not to choose numbers randomly. We choose numbers based on holidays, birthdays, other important dates or events, \"lucky numbers\", etc."
   ]
  },
  {
   "cell_type": "markdown",
   "metadata": {},
   "source": [
    "Is it possible to to more accurately predict your odds of winning based on whether a given number is likely to be chosen as a winner?"
   ]
  },
  {
   "cell_type": "code",
   "execution_count": 11,
   "metadata": {},
   "outputs": [
    {
     "data": {
      "image/png": "[encoded data removed]",
      "text/plain": [
       "<matplotlib.figure.Figure at 0x106e69cf8>"
      ]
     },
     "metadata": {},
     "output_type": "display_data"
    }
   ],
   "source": [
    "bets.tolist()\n",
    "plt.hist(bets)\n",
    "plt.xlabel(\"Bets\")\n",
    "plt.ylabel(\"Number of Instances\")\n",
    "plt.show()"
   ]
  },
  {
   "cell_type": "code",
   "execution_count": 12,
   "metadata": {},
   "outputs": [
    {
     "name": "stdout",
     "output_type": "stream",
     "text": [
      "[52, 67, 11, 82, 92, 80, 69, 8, 60, 62, 42, 15, 37, 91, 87, 38, 94, 9, 97, 17, 88, 63, 18, 69, 58, 96, 50, 59, 96, 34, 76, 86, 28, 83, 42, 48, 3, 28, 12, 76, 18, 36, 72, 20, 84, 26, 41, 62, 91, 72, 42, 96, 40, 2, 40, 48, 77, 94, 15, 43, 67, 57, 37, 43, 21, 60, 78, 74, 46, 76, 16, 98, 45, 89, 64, 10, 92, 85, 6, 11, 51, 30, 86, 64, 100, 60, 66, 90, 56, 23, 40, 19, 72, 17, 17, 91, 14, 95, 1, 58, 87, 66, 76, 74, 60, 3, 72, 43, 57, 80, 34, 21, 60, 16, 62, 8, 89, 65, 59, 84, 54, 56, 97, 72, 10, 23, 13, 18, 36, 43, 42, 68, 58, 87, 68, 14, 39, 43, 82, 62, 42, 41, 17, 51, 73, 73, 85, 87, 7, 85, 53, 40, 47, 38, 54, 38, 16, 49, 89, 99, 11, 34, 80, 100, 10, 77, 78, 34, 72, 48, 64, 21, 56, 92, 88, 17, 17, 74, 11, 21, 19, 69, 57, 44, 88, 88, 97, 88, 70, 49, 80, 82, 90, 59, 76, 13, 86, 20, 66, 70, 8, 24, 3, 36, 49, 48, 63, 95, 3, 37, 76, 96, 5, 36, 63, 56, 13, 71, 34, 80, 86, 39, 98, 91, 92, 51, 82, 62, 90, 100, 48, 80, 7, 95, 18, 45, 14, 62, 91, 0, 68, 65, 19, 67, 54, 14, 29, 4, 76, 7, 19, 72, 23, 38, 65, 87, 45, 5, 3, 40, 13, 56, 42, 41, 47, 53, 37, 25, 11, 78, 82, 9, 33, 83, 0, 23, 90, 39, 11, 6, 83, 51, 55, 84, 78, 18, 70, 64, 68, 14, 65, 84, 72, 37, 27, 11, 38, 81, 11, 43, 43, 35, 24, 54, 79, 89, 30, 1, 1, 11, 47, 15, 26, 75, 89, 48, 77, 50, 33, 45, 40, 24, 36, 24, 95, 97, 60, 97, 82, 56, 54, 95, 21, 92, 94, 96, 72, 47, 36, 0, 17, 39, 52, 99, 16, 90, 65, 27, 40, 19, 66, 44, 44, 75, 3, 51, 31, 64, 95, 16, 75, 39, 30, 44, 26, 39, 88, 30, 78, 14, 90, 58, 38, 1, 68, 29, 67, 42, 16, 11, 44, 67, 29, 83, 75, 13, 90, 87, 19, 100, 44, 22, 13, 5, 83, 98, 0, 47, 8, 100, 75, 59, 89, 67, 94, 95, 93, 2, 17, 0, 95, 22, 2, 38, 59, 72, 68, 97, 91, 16, 64, 34, 83, 24, 98, 1, 47, 32, 48, 96, 14, 77, 34, 41, 98, 92, 44, 34, 35, 81, 52, 46, 74, 34, 39, 25, 94, 84, 66, 17, 66, 86, 41, 94, 27, 36, 99, 76, 4, 50, 31, 97, 15, 47, 59, 23, 33, 64, 38, 47, 84, 38, 29, 100, 0, 38, 71, 83, 80, 81, 43, 2, 34, 33, 15, 25, 66, 27, 77, 59, 79, 4, 89, 23, 2, 97, 29, 23, 68, 13, 65, 52, 59, 66, 65, 27, 22, 95, 68, 2, 41, 33, 56, 82, 86, 44, 36, 35, 5, 37, 47, 64, 95, 66, 6, 45, 22, 8, 10, 60, 81, 57, 10, 65, 18, 68, 95, 10, 85, 66, 25, 84, 23, 92, 99, 68, 52, 4, 86, 82, 22, 81, 51, 72, 4, 39, 23, 55, 17, 40, 79, 47, 60, 70, 29, 41, 8, 26, 20, 43, 71, 32, 17, 34, 4, 93, 48, 24, 37, 81, 36, 58, 52, 89, 11, 65, 40, 36, 18, 40, 92, 39, 42, 74, 22, 14, 69, 25, 64, 82]\n"
     ]
    }
   ],
   "source": [
    "#made a new list with 600 numbers between 0-99\n",
    "import random\n",
    "newbets = []\n",
    "for x in range(600):\n",
    "    x = random.randint(0,100) \n",
    "    newbets.append(x)\n",
    "print(newbets)"
   ]
  },
  {
   "cell_type": "code",
   "execution_count": 13,
   "metadata": {},
   "outputs": [
    {
     "data": {
      "image/png": "[encoded data removed]",
      "text/plain": [
       "<matplotlib.figure.Figure at 0x114315a58>"
      ]
     },
     "metadata": {},
     "output_type": "display_data"
    },
    {
     "name": "stdout",
     "output_type": "stream",
     "text": [
      "All numbers are created equal when chosen at random.\n"
     ]
    }
   ],
   "source": [
    "plt.hist(newbets)\n",
    "plt.xlabel(\"Bets\")\n",
    "plt.ylabel(\"Number of Instances\")\n",
    "plt.show()\n",
    "print(\"All numbers are created equal when chosen at random.\")"
   ]
  },
  {
   "cell_type": "code",
   "execution_count": 14,
   "metadata": {},
   "outputs": [
    {
     "data": {
      "text/html": [
       "<div>\n",
       "<style>\n",
       "    .dataframe thead tr:only-child th {\n",
       "        text-align: right;\n",
       "    }\n",
       "\n",
       "    .dataframe thead th {\n",
       "        text-align: left;\n",
       "    }\n",
       "\n",
       "    .dataframe tbody tr th {\n",
       "        vertical-align: top;\n",
       "    }\n",
       "</style>\n",
       "<table border=\"1\" class=\"dataframe\">\n",
       "  <thead>\n",
       "    <tr style=\"text-align: right;\">\n",
       "      <th></th>\n",
       "      <th>WB1</th>\n",
       "      <th>WB2</th>\n",
       "      <th>WB3</th>\n",
       "      <th>WB4</th>\n",
       "      <th>WB5</th>\n",
       "      <th>PB</th>\n",
       "      <th>PP</th>\n",
       "    </tr>\n",
       "    <tr>\n",
       "      <th>DrawDate</th>\n",
       "      <th></th>\n",
       "      <th></th>\n",
       "      <th></th>\n",
       "      <th></th>\n",
       "      <th></th>\n",
       "      <th></th>\n",
       "      <th></th>\n",
       "    </tr>\n",
       "  </thead>\n",
       "  <tbody>\n",
       "    <tr>\n",
       "      <th>3/15/17</th>\n",
       "      <td>30</td>\n",
       "      <td>16</td>\n",
       "      <td>41</td>\n",
       "      <td>48</td>\n",
       "      <td>53</td>\n",
       "      <td>16</td>\n",
       "      <td>3.0</td>\n",
       "    </tr>\n",
       "    <tr>\n",
       "      <th>3/11/17</th>\n",
       "      <td>57</td>\n",
       "      <td>41</td>\n",
       "      <td>50</td>\n",
       "      <td>26</td>\n",
       "      <td>1</td>\n",
       "      <td>11</td>\n",
       "      <td>2.0</td>\n",
       "    </tr>\n",
       "    <tr>\n",
       "      <th>3/8/17</th>\n",
       "      <td>42</td>\n",
       "      <td>23</td>\n",
       "      <td>59</td>\n",
       "      <td>46</td>\n",
       "      <td>33</td>\n",
       "      <td>4</td>\n",
       "      <td>2.0</td>\n",
       "    </tr>\n",
       "    <tr>\n",
       "      <th>3/4/17</th>\n",
       "      <td>2</td>\n",
       "      <td>22</td>\n",
       "      <td>63</td>\n",
       "      <td>19</td>\n",
       "      <td>18</td>\n",
       "      <td>19</td>\n",
       "      <td>3.0</td>\n",
       "    </tr>\n",
       "    <tr>\n",
       "      <th>3/1/17</th>\n",
       "      <td>16</td>\n",
       "      <td>10</td>\n",
       "      <td>52</td>\n",
       "      <td>40</td>\n",
       "      <td>55</td>\n",
       "      <td>17</td>\n",
       "      <td>10.0</td>\n",
       "    </tr>\n",
       "  </tbody>\n",
       "</table>\n",
       "</div>"
      ],
      "text/plain": [
       "          WB1  WB2  WB3  WB4  WB5  PB    PP\n",
       "DrawDate                                   \n",
       "3/15/17    30   16   41   48   53  16   3.0\n",
       "3/11/17    57   41   50   26    1  11   2.0\n",
       "3/8/17     42   23   59   46   33   4   2.0\n",
       "3/4/17      2   22   63   19   18  19   3.0\n",
       "3/1/17     16   10   52   40   55  17  10.0"
      ]
     },
     "execution_count": 14,
     "metadata": {},
     "output_type": "execute_result"
    }
   ],
   "source": [
    "#source: https://www.kaggle.com/scotth64/powerball-numbers\n",
    "df = pd.read_csv('pb_winning_numbers_03-18-2017.csv', index_col=0)\n",
    "df.head()"
   ]
  },
  {
   "cell_type": "markdown",
   "metadata": {},
   "source": [
    "\n",
    "\n",
    "\n",
    "\n"
   ]
  },
  {
   "cell_type": "code",
   "execution_count": 15,
   "metadata": {},
   "outputs": [
    {
     "name": "stdout",
     "output_type": "stream",
     "text": [
      "          WB1  WB2  WB3  WB4  WB5  PB   PP\n",
      "DrawDate                                  \n",
      "3/11/17    57   41   50   26    1  11  2.0\n",
      "7/23/16    39    5   35    7   23  11  2.0\n",
      "6/18/16    53    2   23   63   41  11  2.0\n",
      "5/18/16    25   67   39   23   54  11  3.0\n",
      "10/21/15   57   32   30   42   56  11  4.0\n",
      "7/22/15    31   12   57   44   43  11  2.0\n",
      "7/15/15    45   34   13   50   16  11  2.0\n",
      "6/3/15      6   40   37   13    8  11  2.0\n",
      "11/12/14   55   37   39   52   51  11  3.0\n",
      "7/5/14     34   58   24   36   57  11  4.0\n",
      "9/4/13      2   45   26    9   47  11  NaN\n",
      "7/6/13     52    2   36   35   13  11  NaN\n",
      "5/18/13    22   10   13   14   52  11  NaN\n",
      "12/22/12   18   44   35   39    1  11  NaN\n",
      "2/15/12    12   11   32   56   52  11  NaN\n",
      "2/11/12    37   52   10    1   57  11  NaN\n",
      "11/19/11   16    9   17   28   30  11  3.0\n",
      "9/17/11    43   22    6   20   32  11  2.0\n",
      "8/3/11     49   19   13   28   21  11  2.0\n",
      "5/28/11    43   12   20   51   55  11  4.0\n",
      "4/9/11     53    5   56   14   32  11  4.0\n",
      "10/16/10   28   16   12   11   15  11  2.0\n",
      "5/5/10     47   13   34   40   57  11  4.0\n",
      "9/23/09     7    8   29   20   25  11  5.0\n",
      "8/26/09    43   23    1   21   30  11  3.0\n",
      "8/8/09     45   37   50   33    4  11  4.0\n",
      "7/22/09     6   22    4   16   32  11  2.0\n",
      "2/25/09    32   49   42   56   17  11  4.0\n",
      "9/6/08     26   54   49   25   17  11  4.0\n",
      "8/27/08    13   49   31   48   36  11  2.0\n",
      "2/27/08    37   48   53   20   24  11  5.0\n",
      "1/16/08     9   18   47   38   19  11  5.0\n",
      "7/28/07    19   24   47   27   15  11  5.0\n",
      "4/25/07    14   12   13   17   53  11  4.0\n",
      "12/2/06    42   34   50   45   17  11  3.0\n",
      "6/10/06    36   54   24   26   16  11  3.0\n",
      "12/14/05   45   15    8   16   51  11  5.0\n",
      "8/27/05     8   39   31   44   22  11  5.0\n",
      "12/15/04   38    1   53   11    6  11  4.0\n",
      "10/30/04   20   27   48   40   30  11  2.0\n",
      "10/16/04   22   42    5   36   20  11  2.0\n",
      "4/17/04    41    4   42   34   29  11  5.0\n",
      "7/26/03     9   34   30   10   32  11  3.0\n",
      "2/26/03    34   27   23   31   10  11  2.0\n",
      "2/20/02    19    8    9   25   22  11  5.0\n",
      "4/4/01      5   43   16   12   13  11  3.0\n",
      "3/10/01    30   19   12   26   33  11  3.0\n",
      "9/20/00    17   45   23   33   21  11  NaN\n",
      "5/31/00    22   15   42   43   16  11  NaN\n",
      "5/10/00    31   47   20   18    8  11  NaN\n",
      "10/23/99   32   15   12   37   27  11  NaN\n",
      "6/5/99     49    8   37    2   16  11  NaN\n",
      "5/22/99    36   18    6   43   15  11  NaN\n",
      "2/13/99    18    4   35   27    9  11  NaN\n",
      "9/19/98    41   35   19   37    1  11  NaN\n",
      "6/13/98    21   23    6    8    3  11  NaN\n",
      "4/11/98    49   48    5   36   15  11  NaN\n"
     ]
    },
    {
     "data": {
      "text/html": [
       "<div>\n",
       "<style>\n",
       "    .dataframe thead tr:only-child th {\n",
       "        text-align: right;\n",
       "    }\n",
       "\n",
       "    .dataframe thead th {\n",
       "        text-align: left;\n",
       "    }\n",
       "\n",
       "    .dataframe tbody tr th {\n",
       "        vertical-align: top;\n",
       "    }\n",
       "</style>\n",
       "<table border=\"1\" class=\"dataframe\">\n",
       "  <thead>\n",
       "    <tr style=\"text-align: right;\">\n",
       "      <th></th>\n",
       "      <th>PB</th>\n",
       "      <th>Number of Instances</th>\n",
       "    </tr>\n",
       "  </thead>\n",
       "  <tbody>\n",
       "    <tr>\n",
       "      <th>0</th>\n",
       "      <td>1</td>\n",
       "      <td>54</td>\n",
       "    </tr>\n",
       "    <tr>\n",
       "      <th>1</th>\n",
       "      <td>2</td>\n",
       "      <td>65</td>\n",
       "    </tr>\n",
       "    <tr>\n",
       "      <th>2</th>\n",
       "      <td>3</td>\n",
       "      <td>47</td>\n",
       "    </tr>\n",
       "    <tr>\n",
       "      <th>3</th>\n",
       "      <td>4</td>\n",
       "      <td>42</td>\n",
       "    </tr>\n",
       "    <tr>\n",
       "      <th>4</th>\n",
       "      <td>5</td>\n",
       "      <td>54</td>\n",
       "    </tr>\n",
       "    <tr>\n",
       "      <th>5</th>\n",
       "      <td>6</td>\n",
       "      <td>63</td>\n",
       "    </tr>\n",
       "    <tr>\n",
       "      <th>6</th>\n",
       "      <td>7</td>\n",
       "      <td>47</td>\n",
       "    </tr>\n",
       "    <tr>\n",
       "      <th>7</th>\n",
       "      <td>8</td>\n",
       "      <td>55</td>\n",
       "    </tr>\n",
       "    <tr>\n",
       "      <th>8</th>\n",
       "      <td>9</td>\n",
       "      <td>53</td>\n",
       "    </tr>\n",
       "    <tr>\n",
       "      <th>9</th>\n",
       "      <td>10</td>\n",
       "      <td>50</td>\n",
       "    </tr>\n",
       "    <tr>\n",
       "      <th>10</th>\n",
       "      <td>11</td>\n",
       "      <td>57</td>\n",
       "    </tr>\n",
       "    <tr>\n",
       "      <th>11</th>\n",
       "      <td>12</td>\n",
       "      <td>48</td>\n",
       "    </tr>\n",
       "    <tr>\n",
       "      <th>12</th>\n",
       "      <td>13</td>\n",
       "      <td>50</td>\n",
       "    </tr>\n",
       "    <tr>\n",
       "      <th>13</th>\n",
       "      <td>14</td>\n",
       "      <td>58</td>\n",
       "    </tr>\n",
       "    <tr>\n",
       "      <th>14</th>\n",
       "      <td>15</td>\n",
       "      <td>57</td>\n",
       "    </tr>\n",
       "    <tr>\n",
       "      <th>15</th>\n",
       "      <td>16</td>\n",
       "      <td>47</td>\n",
       "    </tr>\n",
       "    <tr>\n",
       "      <th>16</th>\n",
       "      <td>17</td>\n",
       "      <td>60</td>\n",
       "    </tr>\n",
       "    <tr>\n",
       "      <th>17</th>\n",
       "      <td>18</td>\n",
       "      <td>57</td>\n",
       "    </tr>\n",
       "    <tr>\n",
       "      <th>18</th>\n",
       "      <td>19</td>\n",
       "      <td>52</td>\n",
       "    </tr>\n",
       "    <tr>\n",
       "      <th>19</th>\n",
       "      <td>20</td>\n",
       "      <td>70</td>\n",
       "    </tr>\n",
       "    <tr>\n",
       "      <th>20</th>\n",
       "      <td>21</td>\n",
       "      <td>50</td>\n",
       "    </tr>\n",
       "  </tbody>\n",
       "</table>\n",
       "</div>"
      ],
      "text/plain": [
       "    PB  Number of Instances\n",
       "0    1                   54\n",
       "1    2                   65\n",
       "2    3                   47\n",
       "3    4                   42\n",
       "4    5                   54\n",
       "5    6                   63\n",
       "6    7                   47\n",
       "7    8                   55\n",
       "8    9                   53\n",
       "9   10                   50\n",
       "10  11                   57\n",
       "11  12                   48\n",
       "12  13                   50\n",
       "13  14                   58\n",
       "14  15                   57\n",
       "15  16                   47\n",
       "16  17                   60\n",
       "17  18                   57\n",
       "18  19                   52\n",
       "19  20                   70\n",
       "20  21                   50"
      ]
     },
     "execution_count": 15,
     "metadata": {},
     "output_type": "execute_result"
    }
   ],
   "source": [
    "#count the number of instances of each Powerball (PB) number\n",
    "#source: adapted from https://www.kaggle.com/scotth64/pbnotebook\n",
    "powerballs = df.groupby( ['PB']) \n",
    "print(powerballs.get_group(11)) #prints every draw date where 11 was the PB number\n",
    "\n",
    "powerballs = pd.DataFrame(powerballs.size().reset_index(name = \"Number of Instances\")) \n",
    "powerballs.head(21)"
   ]
  },
  {
   "cell_type": "code",
   "execution_count": 16,
   "metadata": {},
   "outputs": [
    {
     "data": {
      "text/plain": [
       "array([[ 1, 54],\n",
       "       [ 2, 65],\n",
       "       [ 3, 47],\n",
       "       [ 4, 42],\n",
       "       [ 5, 54],\n",
       "       [ 6, 63],\n",
       "       [ 7, 47],\n",
       "       [ 8, 55],\n",
       "       [ 9, 53],\n",
       "       [10, 50],\n",
       "       [11, 57],\n",
       "       [12, 48],\n",
       "       [13, 50],\n",
       "       [14, 58],\n",
       "       [15, 57],\n",
       "       [16, 47],\n",
       "       [17, 60],\n",
       "       [18, 57],\n",
       "       [19, 52],\n",
       "       [20, 70],\n",
       "       [21, 50],\n",
       "       [22, 46],\n",
       "       [23, 59],\n",
       "       [24, 54],\n",
       "       [25, 57],\n",
       "       [26, 48],\n",
       "       [27, 42],\n",
       "       [28, 41],\n",
       "       [29, 56],\n",
       "       [30, 42],\n",
       "       [31, 51],\n",
       "       [32, 43],\n",
       "       [33, 53],\n",
       "       [34, 36],\n",
       "       [35, 49],\n",
       "       [36, 38],\n",
       "       [37, 51],\n",
       "       [38, 30],\n",
       "       [39, 33],\n",
       "       [40, 19],\n",
       "       [41, 20],\n",
       "       [42, 18]])"
      ]
     },
     "execution_count": 16,
     "metadata": {},
     "output_type": "execute_result"
    }
   ],
   "source": [
    "#create a numpy array from the pandas data frame to plot the data\n",
    "data = np.array(powerballs)\n",
    "data"
   ]
  },
  {
   "cell_type": "code",
   "execution_count": 17,
   "metadata": {},
   "outputs": [
    {
     "data": {
      "text/plain": [
       "<matplotlib.text.Text at 0x11475acf8>"
      ]
     },
     "execution_count": 17,
     "metadata": {},
     "output_type": "execute_result"
    },
    {
     "data": {
      "image/png": "[encoded data removed]",
      "text/plain": [
       "<matplotlib.figure.Figure at 0x11474e3c8>"
      ]
     },
     "metadata": {},
     "output_type": "display_data"
    }
   ],
   "source": [
    "x, y = data.T\n",
    "plt.bar(x,y)\n",
    "plt.xlabel(\"Powerball Numbers\")\n",
    "plt.ylabel(\"Number of Instances\")"
   ]
  },
  {
   "cell_type": "code",
   "execution_count": 18,
   "metadata": {
    "collapsed": true
   },
   "outputs": [],
   "source": [
    "#begin building a model to predict how likely a number is to be chosen\n",
    "from sklearn import tree\n",
    "from sklearn.model_selection import train_test_split"
   ]
  },
  {
   "cell_type": "code",
   "execution_count": 19,
   "metadata": {
    "collapsed": true
   },
   "outputs": [],
   "source": [
    "#df = powerballs dataframe\n",
    "train, test = train_test_split(df, test_size=0.2)\n",
    "test1 = test.drop('PB', 1)\n",
    "#print(train)\n",
    "#print(test1)\n",
    "train.to_csv(\"project_train.csv\")\n",
    "test1.to_csv(\"project_test.csv\")"
   ]
  },
  {
   "cell_type": "code",
   "execution_count": 21,
   "metadata": {},
   "outputs": [
    {
     "name": "stdout",
     "output_type": "stream",
     "text": [
      "[ 0.20629581  0.19828159  0.21516366  0.1896426   0.19061634]\n",
      "1.0\n"
     ]
    }
   ],
   "source": [
    "#create a decision tree from the Powerball values in train set\n",
    "target = train[\"PB\"].values\n",
    "train_features = train[[\"WB1\", \"WB2\", \"WB3\", \"WB4\", \"WB5\"]].values\n",
    "my_tree_one = tree.DecisionTreeClassifier()\n",
    "my_tree_one = my_tree_one.fit(train_features, target)\n",
    "\n",
    "print(my_tree_one.feature_importances_)\n",
    "print(my_tree_one.score(train_features, target))"
   ]
  },
  {
   "cell_type": "code",
   "execution_count": 22,
   "metadata": {},
   "outputs": [
    {
     "data": {
      "text/plain": [
       "array([19, 36,  2, 30, 12, 19, 41, 30, 16, 11, 24, 28,  4, 19, 19,  4, 20,\n",
       "       37, 15, 28, 30, 15,  3, 25, 11,  1, 20, 28, 29, 34,  5, 30, 21, 10,\n",
       "       16, 16,  7, 29, 33, 14, 26, 39,  8,  7, 11,  7,  9, 29, 17, 19, 23,\n",
       "       32, 10, 14, 12, 32, 37, 17,  4,  3, 11, 33, 29, 12,  3, 20, 18, 15,\n",
       "        4, 14, 37, 23, 28, 17, 31, 13, 26, 14, 15, 38, 21, 42, 25, 35, 24,\n",
       "        2,  2, 10, 19, 30,  9, 21,  3,  4, 31, 22, 26, 26, 34, 26, 29, 42,\n",
       "        1, 15, 26, 15, 19,  7, 23, 40, 21, 23,  3,  5, 25, 19, 28, 29, 29,\n",
       "       41, 17, 11, 20, 37,  6, 13, 18, 17,  3, 14,  3, 42,  1, 18,  3, 30,\n",
       "        5, 29, 23, 29,  3, 35,  1,  1, 21, 37,  3, 28, 13, 15,  7, 37, 34,\n",
       "       20,  5, 42, 16, 37,  6, 16, 21, 37,  5,  1,  3, 33, 27, 15, 41, 29,\n",
       "       30, 21, 11, 26, 40, 32, 37, 42, 20, 20, 13, 16, 32,  1, 42, 25, 12,\n",
       "       33, 37, 11,  3, 15,  6,  8,  4, 31, 35,  6, 19,  3,  2,  3,  6, 31,\n",
       "       34, 32,  3, 17, 10, 31,  3, 18, 39, 35, 36,  8, 42, 27,  4, 40, 33,\n",
       "       17, 14,  6,  9, 32, 20,  4, 11, 19, 15, 22, 21,  7, 29, 17, 34, 30,\n",
       "       19,  3, 33, 14, 35, 19, 28,  5,  9, 23, 29, 15, 29,  1, 11, 31, 21,\n",
       "       39, 25, 35, 16,  2, 35, 40, 19, 17, 32,  9,  6, 10, 19, 17, 35, 21,\n",
       "       10, 39, 13, 30,  3, 21, 41, 21, 41, 16, 17, 32, 35, 26, 31, 37, 28,\n",
       "       21, 25,  5, 26, 18, 37, 25, 35, 23, 20, 39,  1, 12, 28, 22, 16, 11,\n",
       "        3, 25, 16, 23, 25, 29, 33, 12, 29,  3, 14,  3, 13, 40, 39, 20, 31,\n",
       "       37, 26, 15, 15, 26,  3,  1, 31, 19, 34, 22,  9, 25, 26, 24, 11, 29,\n",
       "       26, 17, 20,  8, 16,  1, 11, 25, 28, 40, 21, 20, 26, 22,  2,  9,  9,\n",
       "        9, 12,  2, 28,  5, 29, 25, 10, 16, 17, 12, 36,  1,  9, 22,  4,  5,\n",
       "        4, 33, 16, 30, 36, 22, 32, 19,  3,  3, 20, 22,  4, 24, 32, 41, 15,\n",
       "       19, 23,  5,  2,  5, 38,  6, 15, 22, 24, 15, 21, 37, 30])"
      ]
     },
     "execution_count": 22,
     "metadata": {},
     "output_type": "execute_result"
    }
   ],
   "source": [
    "#get powerball predictions for the test set\n",
    "test_features = test1[[\"WB1\", \"WB2\", \"WB3\", \"WB4\", \"WB5\"]].values\n",
    "my_prediction = my_tree_one.predict(test_features)\n",
    "my_prediction"
   ]
  },
  {
   "cell_type": "code",
   "execution_count": 23,
   "metadata": {},
   "outputs": [
    {
     "data": {
      "image/png": "[encoded data removed]",
      "text/plain": [
       "<matplotlib.figure.Figure at 0x11554b6a0>"
      ]
     },
     "metadata": {},
     "output_type": "display_data"
    }
   ],
   "source": [
    "plt.hist(my_prediction)\n",
    "plt.xlabel(\"Predictions\")\n",
    "plt.ylabel(\"Number of Instances\")\n",
    "plt.show()"
   ]
  },
  {
   "cell_type": "code",
   "execution_count": null,
   "metadata": {
    "collapsed": true
   },
   "outputs": [],
   "source": []
  }
 ],
 "metadata": {
  "kernelspec": {
   "display_name": "Python 3",
   "language": "python",
   "name": "python3"
  },
  "language_info": {
   "codemirror_mode": {
    "name": "ipython",
    "version": 3
   },
   "file_extension": ".py",
   "mimetype": "text/x-python",
   "name": "python",
   "nbconvert_exporter": "python",
   "pygments_lexer": "ipython3",
   "version": "3.6.1"
  }
 },
 "nbformat": 4,
 "nbformat_minor": 2
}
